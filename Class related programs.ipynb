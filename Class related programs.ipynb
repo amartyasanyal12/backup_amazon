{
 "cells": [
  {
   "cell_type": "code",
   "execution_count": 10,
   "metadata": {},
   "outputs": [
    {
     "name": "stdout",
     "output_type": "stream",
     "text": [
      "This is parent class constructor\n",
      "This is sub-class constructor\n"
     ]
    }
   ],
   "source": [
    "'''Single Inheritance '''\n",
    "\n",
    "class Grass:\n",
    "    colour=\"green\"\n",
    "    \n",
    "    def __init__(self):\n",
    "        print(\"This is parent class constructor\")\n",
    "    \n",
    "    #instance method\n",
    "    def properties(self):\n",
    "        print(\"The properties are: it is 7 inches long and 4 inches in width\")\n",
    "        \n",
    "    @classmethod\n",
    "    def colour1(cls):\n",
    "        print(\"The color of the grass is \",cls.colour)\n",
    "        \n",
    "    @staticmethod\n",
    "    def cow():\n",
    "        cows=10\n",
    "        print(\"The number of cows are \", cows)\n",
    "        \n",
    "class Land(Grass):\n",
    "    def __init__(self):\n",
    "        super().__init__()\n",
    "        print(\"This is sub-class constructor\")\n",
    "    def about(self):\n",
    "        print(\"The number of hectares are 9\")\n",
    "\n",
    "s1=Land()\n",
    "#s1.about()\n",
    "#s1.properties()\n",
    "#s1.cow()\n",
    "#s1.colour1()"
   ]
  },
  {
   "cell_type": "code",
   "execution_count": 15,
   "metadata": {},
   "outputs": [
    {
     "name": "stdout",
     "output_type": "stream",
     "text": [
      "8\n",
      "8\n"
     ]
    }
   ],
   "source": [
    "class hello:\n",
    "    no_of_boys=8\n",
    "    \n",
    "    def check(self):\n",
    "        print(self.no_of_boys)\n",
    "    \n",
    "    @classmethod\n",
    "    def cool(cls):\n",
    "        print(cls.no_of_boys)\n",
    "        \n",
    "c=hello()\n",
    "c.cool()\n",
    "c.check()"
   ]
  },
  {
   "cell_type": "code",
   "execution_count": 44,
   "metadata": {},
   "outputs": [
    {
     "name": "stdout",
     "output_type": "stream",
     "text": [
      "5\n",
      "1 3 7 15 31 "
     ]
    }
   ],
   "source": [
    "n=int(input())\n",
    "i=1\n",
    "z=0\n",
    "while (i<=n):\n",
    "    z=(z*2)+1\n",
    "    print(z, end=\" \")\n",
    "    i+=1"
   ]
  },
  {
   "cell_type": "markdown",
   "metadata": {},
   "source": []
  },
  {
   "cell_type": "code",
   "execution_count": 50,
   "metadata": {},
   "outputs": [
    {
     "name": "stdout",
     "output_type": "stream",
     "text": [
      "5\n",
      "0 1 4 11 26 "
     ]
    }
   ],
   "source": [
    "n=int(input())\n",
    "z=0\n",
    "i=1\n",
    "for i in range(n):\n",
    "    z=(z*2)+i\n",
    "    print(z,end=\" \")\n",
    "    i+=1\n",
    "    "
   ]
  },
  {
   "cell_type": "code",
   "execution_count": 8,
   "metadata": {},
   "outputs": [
    {
     "name": "stdout",
     "output_type": "stream",
     "text": [
      "GSW\n",
      "The favorite basketball team is BKN\n",
      "The favorite basketball team is PHNX\n",
      "9\n",
      "10\n"
     ]
    }
   ],
   "source": [
    "#multilevel inheritance\n",
    "class Number1:\n",
    "    basketball=\"GSW\"\n",
    "    _protec=9 #syntax for protected variable\n",
    "    __public=10 #syntax for private variable          public>protected>private  ; protected variables can be used by the child class as well as original class ; private variables can be accessed by the class only\n",
    "class Number2(Number1):\n",
    "    basketball=\"BKN\"\n",
    "    def bball(self):\n",
    "        print(f\"The favorite basketball team is \"+self.basketball)\n",
    "class Number3(Number2):\n",
    "    basketball=\"PHNX\"\n",
    "    def bball1(self):\n",
    "        print(f\"The favorite basketball team is \"+self.basketball)\n",
    "\n",
    "h1=Number1()\n",
    "print(h1.basketball)\n",
    "h2=Number2()\n",
    "h2.bball()\n",
    "h3=Number3()\n",
    "h3.bball1()\n",
    "print(h1._protec)\n",
    "print(h1._Number1__public)  #syntax to call a private variable"
   ]
  },
  {
   "cell_type": "code",
   "execution_count": 46,
   "metadata": {},
   "outputs": [
    {
     "data": {
      "text/plain": [
       "'Python'"
      ]
     },
     "execution_count": 46,
     "metadata": {},
     "output_type": "execute_result"
    }
   ],
   "source": [
    "#encapsulation\n",
    "class Edureka:\n",
    "    def __init__(self):\n",
    "        self.course=\"Machine learning\"\n",
    "        self.__subject=\"Python\"\n",
    "        \n",
    "    def subscript(self):\n",
    "        return (self.__subject+\"course used to learn \"+self.course)\n",
    "    \n",
    "    def set__subject(self,t):\n",
    "        self.__subject==t\n",
    "    \n",
    "    def get__subject(self):\n",
    "        return self.__subject\n",
    "    \n",
    "\n",
    "    \n",
    "h1=Edureka()\n",
    "h1.set__subject(\"Algorithm\")\n",
    "h1.get__subject()\n"
   ]
  },
  {
   "cell_type": "code",
   "execution_count": 80,
   "metadata": {},
   "outputs": [
    {
     "name": "stdout",
     "output_type": "stream",
     "text": [
      "68\n",
      "10 22\n"
     ]
    }
   ],
   "source": [
    "#operator overloading\n",
    "class Hello:\n",
    "    def __init__(self,m1,m2):\n",
    "        self.m1=m1\n",
    "        self.m2=m2\n",
    "    def __add__(self,other):\n",
    "        m1=self.m1+other.m1\n",
    "        m2=self.m2+other.m2\n",
    "        s3=Hello(m1,m2)\n",
    "        \n",
    "        return s3\n",
    "    \n",
    "    def __sub__(self,other):\n",
    "        m1=self.m1-other.m1\n",
    "        m2=self.m2-other.m2\n",
    "        s7=Hello(m1,m2)\n",
    "        return s7\n",
    "\n",
    "s5=Hello(23,46)\n",
    "s4=Hello(45,56)\n",
    "s3=s4+s5\n",
    "s7=s4-s5\n",
    "\n",
    "print(s3.m1)\n",
    "print(s7.m2,s7.m1)"
   ]
  },
  {
   "cell_type": "code",
   "execution_count": 4,
   "metadata": {},
   "outputs": [
    {
     "name": "stdout",
     "output_type": "stream",
     "text": [
      "68\n"
     ]
    }
   ],
   "source": [
    "#operator overloading\n",
    "#special method...duncer methods\n",
    "class Employee:\n",
    "    def __init__(self,salary):\n",
    "        self.salary=salary\n",
    "        \n",
    "    def __add__(self,other):\n",
    "        salary=self.salary+other.salary\n",
    "        return salary\n",
    "    \n",
    "c1=Employee(23)\n",
    "c2=Employee(45)\n",
    "c3=c1+c2\n",
    "print(c3)"
   ]
  },
  {
   "cell_type": "code",
   "execution_count": 8,
   "metadata": {},
   "outputs": [
    {
     "name": "stdout",
     "output_type": "stream",
     "text": [
      "30\n",
      "28\n"
     ]
    }
   ],
   "source": [
    "class A:\n",
    "    def __init__(self,number):\n",
    "        self.num=number\n",
    "    def __add__(self,other):\n",
    "        return self.num+other.num\n",
    "    \n",
    "a1=A(17)\n",
    "a2=A(13)\n",
    "a3=A(15)\n",
    "\n",
    "list1=[a1,a2,a3]\n",
    "sum1=0\n",
    "for i in range(1,len(list1)):\n",
    "    sum1=list1[i]+list1[i-1]\n",
    "    print(sum1)\n",
    "    "
   ]
  },
  {
   "cell_type": "code",
   "execution_count": 15,
   "metadata": {},
   "outputs": [
    {
     "name": "stdout",
     "output_type": "stream",
     "text": [
      "0.8\n"
     ]
    }
   ],
   "source": [
    "#if__name__==\"main\"\n",
    "import ifname\n",
    "print(ifname.mul(4,5))"
   ]
  },
  {
   "cell_type": "code",
   "execution_count": 2,
   "metadata": {},
   "outputs": [
    {
     "name": "stdout",
     "output_type": "stream",
     "text": [
      "240\n"
     ]
    }
   ],
   "source": [
    "#abstract base class/method\n",
    "from abc import ABCMeta, abstractmethod #abstractmethod is a decorator\n",
    "class Shape(metaclass=ABCMeta):\n",
    "    @abstractmethod\n",
    "    def calculate(self):\n",
    "        return 0\n",
    "\n",
    "class Rectangle(Shape):\n",
    "    def __init__(self):\n",
    "        self.length=16\n",
    "        self.breadth=15\n",
    "    def calculate(self):\n",
    "        return self.length*self.breadth\n",
    "    \n",
    "rect1=Rectangle()\n",
    "print(rect1.calculate())"
   ]
  },
  {
   "cell_type": "code",
   "execution_count": 1,
   "metadata": {},
   "outputs": [
    {
     "name": "stdout",
     "output_type": "stream",
     "text": [
      "Amartya Garfa\n",
      "US Garfa\n"
     ]
    }
   ],
   "source": [
    "class Coding:\n",
    "    def __init__(self,name,home):\n",
    "        self.name=name\n",
    "        self.home=home\n",
    "    \n",
    "    @property\n",
    "    def explain(self):\n",
    "        print(self.name,self.home)\n",
    "        \n",
    "    @explain.setter\n",
    "    def explain(self):\n",
    "        print(self.name)\n",
    "        print(self.home)\n",
    "        \n",
    "h1=Coding(\"Amartya\",\"Garfa\")\n",
    "h1.explain\n",
    "h1.name=\"US\"\n",
    "h1.explain"
   ]
  },
  {
   "cell_type": "code",
   "execution_count": 5,
   "metadata": {},
   "outputs": [
    {
     "name": "stdout",
     "output_type": "stream",
     "text": [
      "1 4 9 16 25 36 49 64 81 100 "
     ]
    }
   ],
   "source": [
    "#generator\n",
    "#yield function\n",
    "\n",
    "def Topten():\n",
    "    n=1\n",
    "    sq=1\n",
    "    while n<=10:\n",
    "        sq=n**2\n",
    "        yield sq\n",
    "        n+=1\n",
    "\n",
    "values=Topten()\n",
    "\n",
    "for i in values:\n",
    "    print(i, end=\" \")\n",
    "        \n",
    "    "
   ]
  },
  {
   "cell_type": "code",
   "execution_count": 9,
   "metadata": {},
   "outputs": [
    {
     "name": "stdout",
     "output_type": "stream",
     "text": [
      "0\n"
     ]
    }
   ],
   "source": [
    "def nest1(n):\n",
    "    for i in range(n):\n",
    "        yield i\n",
    "        \n",
    "\n",
    "g=nest1(5)\n",
    "print(g.__next__())\n"
   ]
  },
  {
   "cell_type": "code",
   "execution_count": 13,
   "metadata": {},
   "outputs": [
    {
     "name": "stdout",
     "output_type": "stream",
     "text": [
      "1 1 2 3 5 8 13 21 34 55 89 144 233 377 610 "
     ]
    }
   ],
   "source": [
    "#fibonnaci using generator\n",
    "def generator1():\n",
    "    n1=1\n",
    "    n2=1\n",
    "    n3=1\n",
    "    while True:\n",
    "        n1=n2\n",
    "        n2=n3\n",
    "        n3=n1+n2\n",
    "        yield n1\n",
    "\n",
    "a=generator1()\n",
    "for i in range(15):\n",
    "    print(next(a), end=\" \")"
   ]
  },
  {
   "cell_type": "code",
   "execution_count": 6,
   "metadata": {},
   "outputs": [
    {
     "data": {
      "text/plain": [
       "' Amartya Sanyal '"
      ]
     },
     "execution_count": 6,
     "metadata": {},
     "output_type": "execute_result"
    }
   ],
   "source": [
    "#concatenating kwargs\n",
    "def concatenate(**string1):\n",
    "    result=\" \"\n",
    "    for i in string1.values():\n",
    "        result+=i\n",
    "        result+=\" \"\n",
    "    return result\n",
    "concatenate(Name=\"Amartya\",Surname=\"Sanyal\")"
   ]
  },
  {
   "cell_type": "code",
   "execution_count": 3,
   "metadata": {},
   "outputs": [
    {
     "name": "stdout",
     "output_type": "stream",
     "text": [
      "How many objects do you want to input3\n",
      "Enter the list separated by stringamartya sanyal amazon\n",
      "Whaat do u want to do? \t1\n",
      "['amartya', 'sanyal', 'amazon']\n"
     ]
    }
   ],
   "source": [
    "range1=int(input(\"How many objects do you want to input\"))\n",
    "type_list=input(\"Enter the list separated by string\")\n",
    "list1=type_list.split()\n",
    "n=int(input(\"Whaat do u want to do? \\t\"))\n",
    "if n==1:\n",
    "    z=[i for i in list1]\n",
    "    print(z)\n",
    "if n==2:\n",
    "    j={i:f\"{str(i)}\" for i in list1}\n",
    "    print(j)"
   ]
  },
  {
   "cell_type": "code",
   "execution_count": 2,
   "metadata": {},
   "outputs": [],
   "source": [
    "#import requests\n",
    "#r=requests.get('https://financialmodelingprep.com/index-summary/%5EDJI')\n",
    "#print(r.text)"
   ]
  },
  {
   "cell_type": "code",
   "execution_count": 40,
   "metadata": {},
   "outputs": [
    {
     "name": "stdout",
     "output_type": "stream",
     "text": [
      "Enter your list by spaceanc vnb\n",
      "['anc', 'vnb']\n",
      "{'vnb'}\n"
     ]
    }
   ],
   "source": [
    "def decode(input1):\n",
    "    list1=[]\n",
    "    string1=input1.split()\n",
    "    for j in string1:\n",
    "        list1.append(j)\n",
    "    print(list1)\n",
    "\n",
    "def control(input1):\n",
    "    z=input1.split()\n",
    "    dict1={}\n",
    "    for i in z:\n",
    "        dict1={i}\n",
    "    print(dict1)\n",
    "        \n",
    "if __name__==\"__main__\":\n",
    "    n1=input(\"Enter your list by space\")\n",
    "    decode(n1)\n",
    "    control(n1)"
   ]
  },
  {
   "cell_type": "code",
   "execution_count": null,
   "metadata": {},
   "outputs": [],
   "source": []
  },
  {
   "cell_type": "code",
   "execution_count": null,
   "metadata": {},
   "outputs": [],
   "source": []
  },
  {
   "cell_type": "code",
   "execution_count": null,
   "metadata": {},
   "outputs": [],
   "source": []
  }
 ],
 "metadata": {
  "kernelspec": {
   "display_name": "Python 3",
   "language": "python",
   "name": "python3"
  },
  "language_info": {
   "codemirror_mode": {
    "name": "ipython",
    "version": 3
   },
   "file_extension": ".py",
   "mimetype": "text/x-python",
   "name": "python",
   "nbconvert_exporter": "python",
   "pygments_lexer": "ipython3",
   "version": "3.8.5"
  }
 },
 "nbformat": 4,
 "nbformat_minor": 4
}
