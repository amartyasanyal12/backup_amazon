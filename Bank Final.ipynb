{
 "cells": [
  {
   "cell_type": "markdown",
   "metadata": {},
   "source": [
    "# INTRODUCTION: PART I\n",
    "\n",
    "This analysis was done as a part of an internship with HDFC Bank India. The crux of the project is that I had to analyse the current banking structure of India and provide my understanding to the team. The data was downloaded from the Reserve Bank Of India(RBI) website for two corresponding years (2018 & 2019) for the month of May. The excel files were initially re-configured to make sure Python could be used on it, because some of the columns were overlapping with each other. For more information regarding RBI and Indian Banks visit the: https://dbie.rbi.org.in/ website"
   ]
  },
  {
   "cell_type": "markdown",
   "metadata": {},
   "source": [
    "This dataset consists of 64 registered banks in India who operate under the RBI norms. Each month they have to upload their transaction reports to the RBI. This was done in cognizance of further scrutiny of the Indian Banks who were under extreme financial stress due to distribution of wayward loans. \n",
    "> **POS stands for Point Of Sales Machines used for credit card and debit card transactions**\n",
    "\n",
    "The dataset consists of:\n",
    "- The count of ATM machines offsite/onsite,POS offsite\n",
    "- The transaction count for that month for both Credit Card and Debit Card for ATM and POS\n",
    "- The amount of transaction for both Credit Card an Debit Card (ATM & POS)"
   ]
  },
  {
   "cell_type": "markdown",
   "metadata": {},
   "source": [
    "##  Understanding the Dataframe\n",
    "### 2019 Dataset"
   ]
  },
  {
   "cell_type": "markdown",
   "metadata": {},
   "source": [
    "- Importing pandas library to python for analysing the data\n",
    "- Creating a dataframe 'df_2019' to attach the data\n",
    "- The first dataframe consists of the May 2019 excel file"
   ]
  },
  {
   "cell_type": "code",
   "execution_count": 1,
   "metadata": {},
   "outputs": [],
   "source": [
    "import pandas as pd\n",
    "df_2019=pd.read_excel(\"May_2019.copy.XLSX\")"
   ]
  },
  {
   "cell_type": "markdown",
   "metadata": {},
   "source": [
    "To further understand the dataframe we use 'shape function to see the number of rows and columns\n",
    "- Output: The output mentions that there are 65 rows and 16 columns"
   ]
  },
  {
   "cell_type": "code",
   "execution_count": 2,
   "metadata": {},
   "outputs": [
    {
     "name": "stdout",
     "output_type": "stream",
     "text": [
      "(65, 16)\n"
     ]
    }
   ],
   "source": [
    "print(df_2019.shape)"
   ]
  },
  {
   "cell_type": "markdown",
   "metadata": {},
   "source": [
    "We use the head and tail features to see the first 5 and last 5 values of the dataframe, this gives us an idea of what values to encounter in the dataframe\n",
    "1. Output: We see that at the tail there is a redundant row 'Total' which sums up all the values for each column but maybe detrimental during analysis. We will drop that row and continue our analysis. "
   ]
  },
  {
   "cell_type": "code",
   "execution_count": 3,
   "metadata": {},
   "outputs": [
    {
     "data": {
      "text/html": [
       "<div>\n",
       "<style scoped>\n",
       "    .dataframe tbody tr th:only-of-type {\n",
       "        vertical-align: middle;\n",
       "    }\n",
       "\n",
       "    .dataframe tbody tr th {\n",
       "        vertical-align: top;\n",
       "    }\n",
       "\n",
       "    .dataframe thead th {\n",
       "        text-align: right;\n",
       "    }\n",
       "</style>\n",
       "<table border=\"1\" class=\"dataframe\">\n",
       "  <thead>\n",
       "    <tr style=\"text-align: right;\">\n",
       "      <th></th>\n",
       "      <th>Sr.No</th>\n",
       "      <th>Bank Name</th>\n",
       "      <th>ATM_Onsite</th>\n",
       "      <th>ATM_Offsite</th>\n",
       "      <th>POS_Online</th>\n",
       "      <th>POS_Offline</th>\n",
       "      <th>CC_Outstanding</th>\n",
       "      <th>CC_ATM_Transaction</th>\n",
       "      <th>CC_POS_Transaction</th>\n",
       "      <th>CC_ATM_Amount</th>\n",
       "      <th>CC_POS_Amount</th>\n",
       "      <th>DC_Oustanding</th>\n",
       "      <th>DC_ATM_Transaction</th>\n",
       "      <th>DC_POS_Transaction</th>\n",
       "      <th>DC_ATM_amount</th>\n",
       "      <th>DC_POS_amount</th>\n",
       "    </tr>\n",
       "  </thead>\n",
       "  <tbody>\n",
       "    <tr>\n",
       "      <th>0</th>\n",
       "      <td>1.0</td>\n",
       "      <td>ALLAHABAD BANK</td>\n",
       "      <td>761</td>\n",
       "      <td>196</td>\n",
       "      <td>3116</td>\n",
       "      <td>0</td>\n",
       "      <td>0</td>\n",
       "      <td>0</td>\n",
       "      <td>0</td>\n",
       "      <td>0.000000</td>\n",
       "      <td>0.000000</td>\n",
       "      <td>5910582</td>\n",
       "      <td>9068676</td>\n",
       "      <td>3259136</td>\n",
       "      <td>22773.785279</td>\n",
       "      <td>3491.793271</td>\n",
       "    </tr>\n",
       "    <tr>\n",
       "      <th>1</th>\n",
       "      <td>2.0</td>\n",
       "      <td>ANDHRA BANK</td>\n",
       "      <td>3023</td>\n",
       "      <td>773</td>\n",
       "      <td>13777</td>\n",
       "      <td>0</td>\n",
       "      <td>303397</td>\n",
       "      <td>13624</td>\n",
       "      <td>615600</td>\n",
       "      <td>62.738465</td>\n",
       "      <td>1495.788702</td>\n",
       "      <td>28852129</td>\n",
       "      <td>10811586</td>\n",
       "      <td>6953162</td>\n",
       "      <td>38154.666442</td>\n",
       "      <td>9341.300000</td>\n",
       "    </tr>\n",
       "    <tr>\n",
       "      <th>2</th>\n",
       "      <td>3.0</td>\n",
       "      <td>BANK OF BARODA</td>\n",
       "      <td>9321</td>\n",
       "      <td>3850</td>\n",
       "      <td>78791</td>\n",
       "      <td>0</td>\n",
       "      <td>324275</td>\n",
       "      <td>21107</td>\n",
       "      <td>838895</td>\n",
       "      <td>92.758064</td>\n",
       "      <td>1883.972070</td>\n",
       "      <td>48888337</td>\n",
       "      <td>32035602</td>\n",
       "      <td>16675739</td>\n",
       "      <td>125633.462026</td>\n",
       "      <td>14651.528985</td>\n",
       "    </tr>\n",
       "    <tr>\n",
       "      <th>3</th>\n",
       "      <td>4.0</td>\n",
       "      <td>BANK OF INDIA</td>\n",
       "      <td>2645</td>\n",
       "      <td>3509</td>\n",
       "      <td>67740</td>\n",
       "      <td>0</td>\n",
       "      <td>185605</td>\n",
       "      <td>22457</td>\n",
       "      <td>344241</td>\n",
       "      <td>127.086755</td>\n",
       "      <td>849.792205</td>\n",
       "      <td>36822577</td>\n",
       "      <td>19297659</td>\n",
       "      <td>10305371</td>\n",
       "      <td>70860.315525</td>\n",
       "      <td>11220.117556</td>\n",
       "    </tr>\n",
       "    <tr>\n",
       "      <th>4</th>\n",
       "      <td>5.0</td>\n",
       "      <td>BANK OF MAHARASHTRA</td>\n",
       "      <td>1306</td>\n",
       "      <td>554</td>\n",
       "      <td>2350</td>\n",
       "      <td>0</td>\n",
       "      <td>0</td>\n",
       "      <td>0</td>\n",
       "      <td>0</td>\n",
       "      <td>0.000000</td>\n",
       "      <td>0.000000</td>\n",
       "      <td>5649325</td>\n",
       "      <td>7684055</td>\n",
       "      <td>4955403</td>\n",
       "      <td>28463.649115</td>\n",
       "      <td>5602.625140</td>\n",
       "    </tr>\n",
       "  </tbody>\n",
       "</table>\n",
       "</div>"
      ],
      "text/plain": [
       "   Sr.No            Bank Name  ATM_Onsite  ATM_Offsite  POS_Online  \\\n",
       "0    1.0       ALLAHABAD BANK         761          196        3116   \n",
       "1    2.0          ANDHRA BANK        3023          773       13777   \n",
       "2    3.0       BANK OF BARODA        9321         3850       78791   \n",
       "3    4.0        BANK OF INDIA        2645         3509       67740   \n",
       "4    5.0  BANK OF MAHARASHTRA        1306          554        2350   \n",
       "\n",
       "   POS_Offline  CC_Outstanding  CC_ATM_Transaction  CC_POS_Transaction  \\\n",
       "0            0               0                   0                   0   \n",
       "1            0          303397               13624              615600   \n",
       "2            0          324275               21107              838895   \n",
       "3            0          185605               22457              344241   \n",
       "4            0               0                   0                   0   \n",
       "\n",
       "   CC_ATM_Amount  CC_POS_Amount  DC_Oustanding  DC_ATM_Transaction  \\\n",
       "0       0.000000       0.000000        5910582             9068676   \n",
       "1      62.738465    1495.788702       28852129            10811586   \n",
       "2      92.758064    1883.972070       48888337            32035602   \n",
       "3     127.086755     849.792205       36822577            19297659   \n",
       "4       0.000000       0.000000        5649325             7684055   \n",
       "\n",
       "   DC_POS_Transaction  DC_ATM_amount  DC_POS_amount  \n",
       "0             3259136   22773.785279    3491.793271  \n",
       "1             6953162   38154.666442    9341.300000  \n",
       "2            16675739  125633.462026   14651.528985  \n",
       "3            10305371   70860.315525   11220.117556  \n",
       "4             4955403   28463.649115    5602.625140  "
      ]
     },
     "execution_count": 3,
     "metadata": {},
     "output_type": "execute_result"
    }
   ],
   "source": [
    "df_2019.head(5)"
   ]
  },
  {
   "cell_type": "code",
   "execution_count": 4,
   "metadata": {},
   "outputs": [
    {
     "data": {
      "text/html": [
       "<div>\n",
       "<style scoped>\n",
       "    .dataframe tbody tr th:only-of-type {\n",
       "        vertical-align: middle;\n",
       "    }\n",
       "\n",
       "    .dataframe tbody tr th {\n",
       "        vertical-align: top;\n",
       "    }\n",
       "\n",
       "    .dataframe thead th {\n",
       "        text-align: right;\n",
       "    }\n",
       "</style>\n",
       "<table border=\"1\" class=\"dataframe\">\n",
       "  <thead>\n",
       "    <tr style=\"text-align: right;\">\n",
       "      <th></th>\n",
       "      <th>Sr.No</th>\n",
       "      <th>Bank Name</th>\n",
       "      <th>ATM_Onsite</th>\n",
       "      <th>ATM_Offsite</th>\n",
       "      <th>POS_Online</th>\n",
       "      <th>POS_Offline</th>\n",
       "      <th>CC_Outstanding</th>\n",
       "      <th>CC_ATM_Transaction</th>\n",
       "      <th>CC_POS_Transaction</th>\n",
       "      <th>CC_ATM_Amount</th>\n",
       "      <th>CC_POS_Amount</th>\n",
       "      <th>DC_Oustanding</th>\n",
       "      <th>DC_ATM_Transaction</th>\n",
       "      <th>DC_POS_Transaction</th>\n",
       "      <th>DC_ATM_amount</th>\n",
       "      <th>DC_POS_amount</th>\n",
       "    </tr>\n",
       "  </thead>\n",
       "  <tbody>\n",
       "    <tr>\n",
       "      <th>60</th>\n",
       "      <td>61.0</td>\n",
       "      <td>NORTH EAST SMALL FINANCE BANK LIMITED</td>\n",
       "      <td>0</td>\n",
       "      <td>0</td>\n",
       "      <td>0</td>\n",
       "      <td>0</td>\n",
       "      <td>0</td>\n",
       "      <td>0</td>\n",
       "      <td>0</td>\n",
       "      <td>0.000000</td>\n",
       "      <td>0.000000</td>\n",
       "      <td>58716</td>\n",
       "      <td>9712</td>\n",
       "      <td>2616</td>\n",
       "      <td>3.396120e+01</td>\n",
       "      <td>12.725397</td>\n",
       "    </tr>\n",
       "    <tr>\n",
       "      <th>61</th>\n",
       "      <td>62.0</td>\n",
       "      <td>SURYODAY SMALL FINANCE BANK LIMITED</td>\n",
       "      <td>25</td>\n",
       "      <td>1</td>\n",
       "      <td>0</td>\n",
       "      <td>0</td>\n",
       "      <td>0</td>\n",
       "      <td>0</td>\n",
       "      <td>0</td>\n",
       "      <td>0.000000</td>\n",
       "      <td>0.000000</td>\n",
       "      <td>18118</td>\n",
       "      <td>33576</td>\n",
       "      <td>9926</td>\n",
       "      <td>6.357020e+01</td>\n",
       "      <td>14.004844</td>\n",
       "    </tr>\n",
       "    <tr>\n",
       "      <th>62</th>\n",
       "      <td>63.0</td>\n",
       "      <td>UJJIVAN SMALL FINANCE BANK LIMITED</td>\n",
       "      <td>384</td>\n",
       "      <td>3</td>\n",
       "      <td>0</td>\n",
       "      <td>0</td>\n",
       "      <td>0</td>\n",
       "      <td>0</td>\n",
       "      <td>0</td>\n",
       "      <td>0.000000</td>\n",
       "      <td>0.000000</td>\n",
       "      <td>3108364</td>\n",
       "      <td>2053913</td>\n",
       "      <td>305994</td>\n",
       "      <td>8.379599e+03</td>\n",
       "      <td>262.127717</td>\n",
       "    </tr>\n",
       "    <tr>\n",
       "      <th>63</th>\n",
       "      <td>64.0</td>\n",
       "      <td>UTKARSH SMALL FINANCE BANK LIMITED</td>\n",
       "      <td>91</td>\n",
       "      <td>36</td>\n",
       "      <td>0</td>\n",
       "      <td>0</td>\n",
       "      <td>0</td>\n",
       "      <td>0</td>\n",
       "      <td>0</td>\n",
       "      <td>0.000000</td>\n",
       "      <td>0.000000</td>\n",
       "      <td>195956</td>\n",
       "      <td>86281</td>\n",
       "      <td>42669</td>\n",
       "      <td>3.125981e+02</td>\n",
       "      <td>124.805201</td>\n",
       "    </tr>\n",
       "    <tr>\n",
       "      <th>64</th>\n",
       "      <td>NaN</td>\n",
       "      <td>Total</td>\n",
       "      <td>109718</td>\n",
       "      <td>97101</td>\n",
       "      <td>3845111</td>\n",
       "      <td>0</td>\n",
       "      <td>48920802</td>\n",
       "      <td>889516</td>\n",
       "      <td>173153090</td>\n",
       "      <td>4173.211375</td>\n",
       "      <td>612824.645954</td>\n",
       "      <td>800437073</td>\n",
       "      <td>815710204</td>\n",
       "      <td>412530896</td>\n",
       "      <td>2.946668e+06</td>\n",
       "      <td>580468.033340</td>\n",
       "    </tr>\n",
       "  </tbody>\n",
       "</table>\n",
       "</div>"
      ],
      "text/plain": [
       "    Sr.No                              Bank Name  ATM_Onsite  ATM_Offsite  \\\n",
       "60   61.0  NORTH EAST SMALL FINANCE BANK LIMITED           0            0   \n",
       "61   62.0    SURYODAY SMALL FINANCE BANK LIMITED          25            1   \n",
       "62   63.0     UJJIVAN SMALL FINANCE BANK LIMITED         384            3   \n",
       "63   64.0     UTKARSH SMALL FINANCE BANK LIMITED          91           36   \n",
       "64    NaN                                  Total      109718        97101   \n",
       "\n",
       "    POS_Online  POS_Offline  CC_Outstanding  CC_ATM_Transaction  \\\n",
       "60           0            0               0                   0   \n",
       "61           0            0               0                   0   \n",
       "62           0            0               0                   0   \n",
       "63           0            0               0                   0   \n",
       "64     3845111            0        48920802              889516   \n",
       "\n",
       "    CC_POS_Transaction  CC_ATM_Amount  CC_POS_Amount  DC_Oustanding  \\\n",
       "60                   0       0.000000       0.000000          58716   \n",
       "61                   0       0.000000       0.000000          18118   \n",
       "62                   0       0.000000       0.000000        3108364   \n",
       "63                   0       0.000000       0.000000         195956   \n",
       "64           173153090    4173.211375  612824.645954      800437073   \n",
       "\n",
       "    DC_ATM_Transaction  DC_POS_Transaction  DC_ATM_amount  DC_POS_amount  \n",
       "60                9712                2616   3.396120e+01      12.725397  \n",
       "61               33576                9926   6.357020e+01      14.004844  \n",
       "62             2053913              305994   8.379599e+03     262.127717  \n",
       "63               86281               42669   3.125981e+02     124.805201  \n",
       "64           815710204           412530896   2.946668e+06  580468.033340  "
      ]
     },
     "execution_count": 4,
     "metadata": {},
     "output_type": "execute_result"
    }
   ],
   "source": [
    "df_2019.tail(5)"
   ]
  },
  {
   "cell_type": "markdown",
   "metadata": {},
   "source": [
    "## Explanation of the column names and the values in the rows\n",
    "\n",
    "The rows have the counts of both ATM and POS machines which are operational for each bank. The column labels state the particular count/amount for that bank. \n",
    "> So for example: CC_ATM_Transaction stands for Credit Card-ATM-Transaction i.e, ATM transactions for that particular card type for the individual bank.\n",
    "1. **ATM_Oniste**:  Number of ATM deployed on site by the bank.\n",
    "2. **ATM_Offsite**: Number of ATM deployed off site by the bank.\n",
    "3. **POS_Online**:  Number of POS deployed online by the bank\n",
    "4. **POS_Offline**: Number of POS deployed offline by the bank\n",
    "5. **CC_Outstanding**: Total number of credit cards issued outstanding (after adjusting the number of cards withdrawan/cancelled).\n",
    "6. **CC_ATM_Transaction**: Total number of financial transactions done by the credit card issued by the bank at ATMs\n",
    "7. **CC_POS_Transaction**: Total number of financial transactions done by the credit card issued by the bank at POS terminals\n",
    "8. **CC_ATM_Amount**: Total value of financial transactions done by the credit card issued by the bank at ATMs\n",
    "9. **CC_POS_Amount**: Total value of financial transactions done by the credit card issued by the bank at POS terminals.\n",
    "10. **DC_Oustanding**: Total number of debit cards issued outstanding (after adjusting the number of cards withdrawan/cancelled).\n",
    "11. **DC_ATM_Transaction**: Total number of financial transactions done by the debit card issued by the bank at ATMs\n",
    "12. **DC_POS_Transaction**: Total number of financial transactions done by the debit card issued by the bank at POS terminals\n",
    "13. **DC_ATM_amount**: Total value of financial transactions done by the debit card issued by the bank at ATMs\n",
    "14. **DC_POS_amount**: Total value of financial transactions done by the debit card issued by the bank at POS terminals."
   ]
  },
  {
   "cell_type": "code",
   "execution_count": 5,
   "metadata": {},
   "outputs": [],
   "source": [
    "df_2019.drop([64],axis=0,inplace=True)\n",
    "df_2019.drop('Sr.No',axis=1,inplace=True)"
   ]
  },
  {
   "cell_type": "markdown",
   "metadata": {},
   "source": [
    "Now we use describe to further make sense of the data.\n",
    "The function describe gives us counts, the 25th percentile to the 75th percentile of the values, min and max as well as the mean. This function is highly recommended for one to understand the range of the dataset. \n",
    "> The **describe** function is self explanatory and gives one an overall outlook of the dataset."
   ]
  },
  {
   "cell_type": "code",
   "execution_count": 6,
   "metadata": {},
   "outputs": [
    {
     "data": {
      "text/html": [
       "<div>\n",
       "<style scoped>\n",
       "    .dataframe tbody tr th:only-of-type {\n",
       "        vertical-align: middle;\n",
       "    }\n",
       "\n",
       "    .dataframe tbody tr th {\n",
       "        vertical-align: top;\n",
       "    }\n",
       "\n",
       "    .dataframe thead th {\n",
       "        text-align: right;\n",
       "    }\n",
       "</style>\n",
       "<table border=\"1\" class=\"dataframe\">\n",
       "  <thead>\n",
       "    <tr style=\"text-align: right;\">\n",
       "      <th></th>\n",
       "      <th>count</th>\n",
       "      <th>mean</th>\n",
       "      <th>std</th>\n",
       "      <th>min</th>\n",
       "      <th>25%</th>\n",
       "      <th>50%</th>\n",
       "      <th>75%</th>\n",
       "      <th>max</th>\n",
       "    </tr>\n",
       "  </thead>\n",
       "  <tbody>\n",
       "    <tr>\n",
       "      <th>ATM_Onsite</th>\n",
       "      <td>64.0</td>\n",
       "      <td>1.714344e+03</td>\n",
       "      <td>3.571981e+03</td>\n",
       "      <td>0.0</td>\n",
       "      <td>69.500000</td>\n",
       "      <td>4.770000e+02</td>\n",
       "      <td>2.238000e+03</td>\n",
       "      <td>2.560600e+04</td>\n",
       "    </tr>\n",
       "    <tr>\n",
       "      <th>ATM_Offsite</th>\n",
       "      <td>64.0</td>\n",
       "      <td>1.517203e+03</td>\n",
       "      <td>4.538884e+03</td>\n",
       "      <td>0.0</td>\n",
       "      <td>2.000000</td>\n",
       "      <td>2.710000e+02</td>\n",
       "      <td>7.810000e+02</td>\n",
       "      <td>3.288300e+04</td>\n",
       "    </tr>\n",
       "    <tr>\n",
       "      <th>POS_Online</th>\n",
       "      <td>64.0</td>\n",
       "      <td>6.007986e+04</td>\n",
       "      <td>1.518664e+05</td>\n",
       "      <td>0.0</td>\n",
       "      <td>0.000000</td>\n",
       "      <td>4.984500e+03</td>\n",
       "      <td>2.640100e+04</td>\n",
       "      <td>7.371030e+05</td>\n",
       "    </tr>\n",
       "    <tr>\n",
       "      <th>POS_Offline</th>\n",
       "      <td>64.0</td>\n",
       "      <td>0.000000e+00</td>\n",
       "      <td>0.000000e+00</td>\n",
       "      <td>0.0</td>\n",
       "      <td>0.000000</td>\n",
       "      <td>0.000000e+00</td>\n",
       "      <td>0.000000e+00</td>\n",
       "      <td>0.000000e+00</td>\n",
       "    </tr>\n",
       "    <tr>\n",
       "      <th>CC_Outstanding</th>\n",
       "      <td>64.0</td>\n",
       "      <td>7.643875e+05</td>\n",
       "      <td>2.215087e+06</td>\n",
       "      <td>0.0</td>\n",
       "      <td>0.000000</td>\n",
       "      <td>9.630000e+02</td>\n",
       "      <td>2.150530e+05</td>\n",
       "      <td>1.267985e+07</td>\n",
       "    </tr>\n",
       "    <tr>\n",
       "      <th>CC_ATM_Transaction</th>\n",
       "      <td>64.0</td>\n",
       "      <td>1.389869e+04</td>\n",
       "      <td>3.532855e+04</td>\n",
       "      <td>0.0</td>\n",
       "      <td>0.000000</td>\n",
       "      <td>4.500000e+01</td>\n",
       "      <td>5.952250e+03</td>\n",
       "      <td>1.853650e+05</td>\n",
       "    </tr>\n",
       "    <tr>\n",
       "      <th>CC_POS_Transaction</th>\n",
       "      <td>64.0</td>\n",
       "      <td>2.705517e+06</td>\n",
       "      <td>7.926083e+06</td>\n",
       "      <td>0.0</td>\n",
       "      <td>0.000000</td>\n",
       "      <td>1.896000e+03</td>\n",
       "      <td>4.120808e+05</td>\n",
       "      <td>4.587032e+07</td>\n",
       "    </tr>\n",
       "    <tr>\n",
       "      <th>CC_ATM_Amount</th>\n",
       "      <td>64.0</td>\n",
       "      <td>6.520643e+01</td>\n",
       "      <td>1.725828e+02</td>\n",
       "      <td>0.0</td>\n",
       "      <td>0.000000</td>\n",
       "      <td>1.729500e-01</td>\n",
       "      <td>2.948612e+01</td>\n",
       "      <td>1.087520e+03</td>\n",
       "    </tr>\n",
       "    <tr>\n",
       "      <th>CC_POS_Amount</th>\n",
       "      <td>64.0</td>\n",
       "      <td>9.575385e+03</td>\n",
       "      <td>2.830206e+04</td>\n",
       "      <td>0.0</td>\n",
       "      <td>0.000000</td>\n",
       "      <td>1.063755e+01</td>\n",
       "      <td>1.107181e+03</td>\n",
       "      <td>1.720327e+05</td>\n",
       "    </tr>\n",
       "    <tr>\n",
       "      <th>DC_Oustanding</th>\n",
       "      <td>64.0</td>\n",
       "      <td>1.250683e+07</td>\n",
       "      <td>3.807818e+07</td>\n",
       "      <td>0.0</td>\n",
       "      <td>529427.750000</td>\n",
       "      <td>2.758882e+06</td>\n",
       "      <td>1.147416e+07</td>\n",
       "      <td>2.971657e+08</td>\n",
       "    </tr>\n",
       "    <tr>\n",
       "      <th>DC_ATM_Transaction</th>\n",
       "      <td>64.0</td>\n",
       "      <td>1.274547e+07</td>\n",
       "      <td>4.726198e+07</td>\n",
       "      <td>0.0</td>\n",
       "      <td>470528.250000</td>\n",
       "      <td>2.247416e+06</td>\n",
       "      <td>8.986695e+06</td>\n",
       "      <td>3.764035e+08</td>\n",
       "    </tr>\n",
       "    <tr>\n",
       "      <th>DC_POS_Transaction</th>\n",
       "      <td>64.0</td>\n",
       "      <td>6.445795e+06</td>\n",
       "      <td>1.668351e+07</td>\n",
       "      <td>0.0</td>\n",
       "      <td>202486.250000</td>\n",
       "      <td>1.536034e+06</td>\n",
       "      <td>5.277089e+06</td>\n",
       "      <td>1.170264e+08</td>\n",
       "    </tr>\n",
       "    <tr>\n",
       "      <th>DC_ATM_amount</th>\n",
       "      <td>64.0</td>\n",
       "      <td>4.604168e+04</td>\n",
       "      <td>1.445293e+05</td>\n",
       "      <td>0.0</td>\n",
       "      <td>2053.617775</td>\n",
       "      <td>8.870686e+03</td>\n",
       "      <td>3.640770e+04</td>\n",
       "      <td>1.130261e+06</td>\n",
       "    </tr>\n",
       "    <tr>\n",
       "      <th>DC_POS_amount</th>\n",
       "      <td>64.0</td>\n",
       "      <td>9.069813e+03</td>\n",
       "      <td>2.506169e+04</td>\n",
       "      <td>0.0</td>\n",
       "      <td>308.791867</td>\n",
       "      <td>1.588528e+03</td>\n",
       "      <td>7.328095e+03</td>\n",
       "      <td>1.761212e+05</td>\n",
       "    </tr>\n",
       "  </tbody>\n",
       "</table>\n",
       "</div>"
      ],
      "text/plain": [
       "                    count          mean           std  min            25%  \\\n",
       "ATM_Onsite           64.0  1.714344e+03  3.571981e+03  0.0      69.500000   \n",
       "ATM_Offsite          64.0  1.517203e+03  4.538884e+03  0.0       2.000000   \n",
       "POS_Online           64.0  6.007986e+04  1.518664e+05  0.0       0.000000   \n",
       "POS_Offline          64.0  0.000000e+00  0.000000e+00  0.0       0.000000   \n",
       "CC_Outstanding       64.0  7.643875e+05  2.215087e+06  0.0       0.000000   \n",
       "CC_ATM_Transaction   64.0  1.389869e+04  3.532855e+04  0.0       0.000000   \n",
       "CC_POS_Transaction   64.0  2.705517e+06  7.926083e+06  0.0       0.000000   \n",
       "CC_ATM_Amount        64.0  6.520643e+01  1.725828e+02  0.0       0.000000   \n",
       "CC_POS_Amount        64.0  9.575385e+03  2.830206e+04  0.0       0.000000   \n",
       "DC_Oustanding        64.0  1.250683e+07  3.807818e+07  0.0  529427.750000   \n",
       "DC_ATM_Transaction   64.0  1.274547e+07  4.726198e+07  0.0  470528.250000   \n",
       "DC_POS_Transaction   64.0  6.445795e+06  1.668351e+07  0.0  202486.250000   \n",
       "DC_ATM_amount        64.0  4.604168e+04  1.445293e+05  0.0    2053.617775   \n",
       "DC_POS_amount        64.0  9.069813e+03  2.506169e+04  0.0     308.791867   \n",
       "\n",
       "                             50%           75%           max  \n",
       "ATM_Onsite          4.770000e+02  2.238000e+03  2.560600e+04  \n",
       "ATM_Offsite         2.710000e+02  7.810000e+02  3.288300e+04  \n",
       "POS_Online          4.984500e+03  2.640100e+04  7.371030e+05  \n",
       "POS_Offline         0.000000e+00  0.000000e+00  0.000000e+00  \n",
       "CC_Outstanding      9.630000e+02  2.150530e+05  1.267985e+07  \n",
       "CC_ATM_Transaction  4.500000e+01  5.952250e+03  1.853650e+05  \n",
       "CC_POS_Transaction  1.896000e+03  4.120808e+05  4.587032e+07  \n",
       "CC_ATM_Amount       1.729500e-01  2.948612e+01  1.087520e+03  \n",
       "CC_POS_Amount       1.063755e+01  1.107181e+03  1.720327e+05  \n",
       "DC_Oustanding       2.758882e+06  1.147416e+07  2.971657e+08  \n",
       "DC_ATM_Transaction  2.247416e+06  8.986695e+06  3.764035e+08  \n",
       "DC_POS_Transaction  1.536034e+06  5.277089e+06  1.170264e+08  \n",
       "DC_ATM_amount       8.870686e+03  3.640770e+04  1.130261e+06  \n",
       "DC_POS_amount       1.588528e+03  7.328095e+03  1.761212e+05  "
      ]
     },
     "execution_count": 6,
     "metadata": {},
     "output_type": "execute_result"
    }
   ],
   "source": [
    "df_2019.describe().T"
   ]
  },
  {
   "cell_type": "code",
   "execution_count": 7,
   "metadata": {},
   "outputs": [],
   "source": [
    "df_2019.drop('POS_Offline',axis=1,inplace=True)"
   ]
  },
  {
   "cell_type": "markdown",
   "metadata": {},
   "source": [
    "### All the banks in the dataset\n",
    "\n",
    "- The dataset has a combination of both government and private banks. This will be segregated later for further analysis."
   ]
  },
  {
   "cell_type": "code",
   "execution_count": 8,
   "metadata": {},
   "outputs": [
    {
     "name": "stdout",
     "output_type": "stream",
     "text": [
      "Bank Name\n",
      "['ALLAHABAD BANK' 'ANDHRA BANK' 'BANK OF BARODA' 'BANK OF INDIA'\n",
      " 'BANK OF MAHARASHTRA' 'CANARA BANK' 'CENTRAL BANK OF INDIA'\n",
      " 'CORPORATION BANK' 'INDIAN BANK' 'INDIAN OVERSEAS BANK'\n",
      " 'ORIENTAL BANK OF COMMERCE' 'PUNJAB AND SIND BANK' 'PUNJAB NATIONAL BANK'\n",
      " 'SYNDICATE BANK' 'UCO BANK' 'UNION BANK OF INDIA' 'UNITED BANK OF INDIA'\n",
      " 'IDBI LTD' 'STATE BANK OF INDIA' 'AXIS BANK LTD' 'BANDHAN BANK LTD'\n",
      " 'CATHOLIC SYRIAN BANK LTD' 'CITY UNION BANK' 'DCB BANK LTD'\n",
      " 'DHANALAKSHMI BANK LTD' 'FEDERAL BANK LTD' 'HDFC BANK LTD'\n",
      " 'ICICI BANK LTD' 'IDFC Bank Limited' 'INDUSIND BANK LTD'\n",
      " 'JAMMU AND KASHMIR BANK' 'KARNATAKA BANK LTD' 'KARUR VYSYA BANK LTD'\n",
      " 'KOTAK MAHINDRA BANK LTD' 'RATNAKAR BANK LIMITED' 'SOUTH INDIAN BANK'\n",
      " 'TAMILNAD MERCANTILE BANK LTD' 'THE LAXMI VILAS BANK LTD' 'YES BANK LTD'\n",
      " 'AMERICAN EXPRESS' 'BANK OF AMERICA' 'BARCLAYS BANK PLC' 'CITI BANK'\n",
      " 'DBS BANK' 'DEUTSCHE BANK LTD' 'HONGKONG AND SHANGHAI BKG CORPN'\n",
      " 'STANDARD CHARTERED BANK LTD' 'ADITYA BIRLA IDEA PAYMENTS BANK'\n",
      " 'AIRTEL PAYMENTS BANK' 'FINO PAYMENTS BANK' 'INDIA POST PAYMENTS BANK'\n",
      " 'JIO PAYMENTS BANK ' 'NSDL PAYMENTS BANK' 'PAYTM PAYMENTS BANK'\n",
      " 'AU SMALL FINANCE BANK LIMITED' 'CAPITAL SMALL FINANCE BANK LIMITED'\n",
      " 'FINCARE SMALL FINANCE BANK LIMITED' 'EQUITAS SMALL FINANCE BANK LIMITED'\n",
      " 'ESAF SMALL FINANCE BANK LIMITED' 'JANA SMALL FINANCE BANK LIMITED'\n",
      " 'NORTH EAST SMALL FINANCE BANK LIMITED'\n",
      " 'SURYODAY SMALL FINANCE BANK LIMITED'\n",
      " 'UJJIVAN SMALL FINANCE BANK LIMITED' 'UTKARSH SMALL FINANCE BANK LIMITED']\n"
     ]
    }
   ],
   "source": [
    "for col in df_2019.select_dtypes(include='object').columns:\n",
    "    print(col)\n",
    "    print(df_2019[col].unique())"
   ]
  },
  {
   "cell_type": "markdown",
   "metadata": {},
   "source": [
    "## DATA TRANSFORMATION AND CLEANING DATA"
   ]
  },
  {
   "cell_type": "markdown",
   "metadata": {},
   "source": [
    "### Segregating the dataset on the basis of government and private banks\n",
    "\n",
    "> A new column will be added to the dataframe to give the banks a new segregation according to their ownership type. This will help us to understand the data much better at a Macro level.\n",
    "\n",
    "The segregation will be based on two bank types government and private banks"
   ]
  },
  {
   "cell_type": "code",
   "execution_count": 9,
   "metadata": {},
   "outputs": [],
   "source": [
    "bank_type=[]\n",
    "for row in df_2019['Bank Name']:\n",
    "    if row=='ALLAHABAD BANK' or row=='ANDHRA BANK' or row=='BANK OF BARODA' or row== 'BANK OF INDIA' or row=='BANK OF MAHARASHTRA'or row=='CANARA BANK' or row=='CENTRAL BANK OF INDIA' or row== 'CORPORATION BANK' or row== 'INDIAN BANK' or row== 'INDIAN OVERSEAS BANK' or row== 'ORIENTAL BANK OF COMMERCE' or row=='PUNJAB AND SIND BANK' or row== 'PUNJAB NATIONAL BANK' or row=='SYNDICATE BANK' or row=='UCO BANK' or row=='UNION BANK OF INDIA' or row=='UNITED BANK OF INDIA' or row== 'STATE BANK OF INDIA' or row=='CITY UNION BANK' or row== 'JAMMU AND KASHMIR BANK' or row=='KARNATAKA BANK LTD':\n",
    "        bank_type.append('Government Bank')\n",
    "    else:\n",
    "        bank_type.append('Private Bank')"
   ]
  },
  {
   "cell_type": "code",
   "execution_count": 10,
   "metadata": {},
   "outputs": [],
   "source": [
    "df_2019['bank_type']=bank_type"
   ]
  },
  {
   "cell_type": "code",
   "execution_count": 11,
   "metadata": {},
   "outputs": [
    {
     "data": {
      "text/html": [
       "<div>\n",
       "<style scoped>\n",
       "    .dataframe tbody tr th:only-of-type {\n",
       "        vertical-align: middle;\n",
       "    }\n",
       "\n",
       "    .dataframe tbody tr th {\n",
       "        vertical-align: top;\n",
       "    }\n",
       "\n",
       "    .dataframe thead th {\n",
       "        text-align: right;\n",
       "    }\n",
       "</style>\n",
       "<table border=\"1\" class=\"dataframe\">\n",
       "  <thead>\n",
       "    <tr style=\"text-align: right;\">\n",
       "      <th></th>\n",
       "      <th>Bank Name</th>\n",
       "      <th>ATM_Onsite</th>\n",
       "      <th>ATM_Offsite</th>\n",
       "      <th>POS_Online</th>\n",
       "      <th>CC_Outstanding</th>\n",
       "      <th>CC_ATM_Transaction</th>\n",
       "      <th>CC_POS_Transaction</th>\n",
       "      <th>CC_ATM_Amount</th>\n",
       "      <th>CC_POS_Amount</th>\n",
       "      <th>DC_Oustanding</th>\n",
       "      <th>DC_ATM_Transaction</th>\n",
       "      <th>DC_POS_Transaction</th>\n",
       "      <th>DC_ATM_amount</th>\n",
       "      <th>DC_POS_amount</th>\n",
       "      <th>bank_type</th>\n",
       "    </tr>\n",
       "  </thead>\n",
       "  <tbody>\n",
       "    <tr>\n",
       "      <th>0</th>\n",
       "      <td>ALLAHABAD BANK</td>\n",
       "      <td>761</td>\n",
       "      <td>196</td>\n",
       "      <td>3116</td>\n",
       "      <td>0</td>\n",
       "      <td>0</td>\n",
       "      <td>0</td>\n",
       "      <td>0.000000</td>\n",
       "      <td>0.000000</td>\n",
       "      <td>5910582</td>\n",
       "      <td>9068676</td>\n",
       "      <td>3259136</td>\n",
       "      <td>22773.785279</td>\n",
       "      <td>3491.793271</td>\n",
       "      <td>Government Bank</td>\n",
       "    </tr>\n",
       "    <tr>\n",
       "      <th>1</th>\n",
       "      <td>ANDHRA BANK</td>\n",
       "      <td>3023</td>\n",
       "      <td>773</td>\n",
       "      <td>13777</td>\n",
       "      <td>303397</td>\n",
       "      <td>13624</td>\n",
       "      <td>615600</td>\n",
       "      <td>62.738465</td>\n",
       "      <td>1495.788702</td>\n",
       "      <td>28852129</td>\n",
       "      <td>10811586</td>\n",
       "      <td>6953162</td>\n",
       "      <td>38154.666442</td>\n",
       "      <td>9341.300000</td>\n",
       "      <td>Government Bank</td>\n",
       "    </tr>\n",
       "  </tbody>\n",
       "</table>\n",
       "</div>"
      ],
      "text/plain": [
       "        Bank Name  ATM_Onsite  ATM_Offsite  POS_Online  CC_Outstanding  \\\n",
       "0  ALLAHABAD BANK         761          196        3116               0   \n",
       "1     ANDHRA BANK        3023          773       13777          303397   \n",
       "\n",
       "   CC_ATM_Transaction  CC_POS_Transaction  CC_ATM_Amount  CC_POS_Amount  \\\n",
       "0                   0                   0       0.000000       0.000000   \n",
       "1               13624              615600      62.738465    1495.788702   \n",
       "\n",
       "   DC_Oustanding  DC_ATM_Transaction  DC_POS_Transaction  DC_ATM_amount  \\\n",
       "0        5910582             9068676             3259136   22773.785279   \n",
       "1       28852129            10811586             6953162   38154.666442   \n",
       "\n",
       "   DC_POS_amount        bank_type  \n",
       "0    3491.793271  Government Bank  \n",
       "1    9341.300000  Government Bank  "
      ]
     },
     "execution_count": 11,
     "metadata": {},
     "output_type": "execute_result"
    }
   ],
   "source": [
    "df_2019.head(2)"
   ]
  },
  {
   "cell_type": "code",
   "execution_count": 12,
   "metadata": {},
   "outputs": [
    {
     "data": {
      "text/plain": [
       "Private Bank       43\n",
       "Government Bank    21\n",
       "Name: bank_type, dtype: int64"
      ]
     },
     "execution_count": 12,
     "metadata": {},
     "output_type": "execute_result"
    }
   ],
   "source": [
    "df_2019.bank_type.value_counts()"
   ]
  },
  {
   "cell_type": "markdown",
   "metadata": {},
   "source": [
    "*From the below output we can understand that there are 43 private banks in the dataset and 21 government banks*"
   ]
  },
  {
   "cell_type": "code",
   "execution_count": 13,
   "metadata": {},
   "outputs": [
    {
     "data": {
      "text/plain": [
       "Private Bank       67.2%\n",
       "Government Bank    32.8%\n",
       "Name: bank_type, dtype: object"
      ]
     },
     "execution_count": 13,
     "metadata": {},
     "output_type": "execute_result"
    }
   ],
   "source": [
    "banks_percentage=df_2019.bank_type.value_counts(normalize=True).mul(100).round(1).astype(str)+'%'\n",
    "banks_percentage"
   ]
  },
  {
   "cell_type": "code",
   "execution_count": 14,
   "metadata": {},
   "outputs": [
    {
     "data": {
      "image/png": "[encoded data removed]",
      "text/plain": [
       "<Figure size 432x288 with 1 Axes>"
      ]
     },
     "metadata": {},
     "output_type": "display_data"
    }
   ],
   "source": [
    "import matplotlib.pyplot as plt\n",
    "(df_2019[\"bank_type\"].value_counts()).plot.pie(autopct=\"%.1f%%\", shadow=True,rotatelabels=False, wedgeprops={'linewidth': 6}, radius=1)\n",
    "plt.show()"
   ]
  },
  {
   "cell_type": "markdown",
   "metadata": {},
   "source": [
    "### Expanding  POS and ATM transaction values\n",
    "\n",
    "- The Transaction values are in INR crores but the zeros are removed in the original dataset\n",
    "- In our analysis it is required to convert the transaction value to get the accurate representation of per card value\n",
    "> For Example: The formula we use is: **Credit Card POS Amount= Credit Card POS Amount x INR 10,00,000**\n",
    "- This gives us the new POS Amount for the particular dataset"
   ]
  },
  {
   "cell_type": "code",
   "execution_count": 15,
   "metadata": {},
   "outputs": [],
   "source": [
    "df_2019['DC_POS_amount']=df_2019['DC_POS_amount']*1000000"
   ]
  },
  {
   "cell_type": "code",
   "execution_count": 16,
   "metadata": {},
   "outputs": [],
   "source": [
    "df_2019['CC_POS_Amount']=df_2019['CC_POS_Amount']*1000000"
   ]
  },
  {
   "cell_type": "markdown",
   "metadata": {},
   "source": [
    "Similar functions will be conducted on credit card and debit card ATM transaction values"
   ]
  },
  {
   "cell_type": "code",
   "execution_count": 17,
   "metadata": {},
   "outputs": [],
   "source": [
    "df_2019['DC_ATM_amount']=df_2019['DC_ATM_amount']*1000000"
   ]
  },
  {
   "cell_type": "code",
   "execution_count": 18,
   "metadata": {},
   "outputs": [],
   "source": [
    "df_2019['CC_ATM_Amount']=df_2019['CC_ATM_Amount']*1000000"
   ]
  },
  {
   "cell_type": "markdown",
   "metadata": {},
   "source": [
    "## Average transaction value per card type of a bank\n"
   ]
  },
  {
   "cell_type": "markdown",
   "metadata": {},
   "source": [
    "In the next step of analysis, we will be creating new columns in the dataframe to calculate the average transaction value per card type of a bank. \n",
    "> The formula used will be: **Average Transaction Value(card type): Total Value of Transactions/Total number of transactions**\n",
    "\n",
    "- This will help one understand if the banks are doing well in terms of their ATM deployment or POS machine swipes and give further room for more analysis.\n",
    " > **Point to be noted**: This does not paint the accurate picture of how well the bank is performing because there are other factors to be considered while calculating performance. However, in terms of absolute numbers this maybe useful to understand the bank performance"
   ]
  },
  {
   "cell_type": "code",
   "execution_count": 19,
   "metadata": {},
   "outputs": [],
   "source": [
    "for ind,row in df_2019.iterrows():\n",
    "    df_2019.loc[ind,\"DC_POS_PTransac2019\"]=row[\"DC_POS_amount\"]/row[\"DC_POS_Transaction\"] if row[\"DC_POS_Transaction\"]!=0 else 0"
   ]
  },
  {
   "cell_type": "code",
   "execution_count": 20,
   "metadata": {},
   "outputs": [
    {
     "data": {
      "text/html": [
       "<div>\n",
       "<style scoped>\n",
       "    .dataframe tbody tr th:only-of-type {\n",
       "        vertical-align: middle;\n",
       "    }\n",
       "\n",
       "    .dataframe tbody tr th {\n",
       "        vertical-align: top;\n",
       "    }\n",
       "\n",
       "    .dataframe thead th {\n",
       "        text-align: right;\n",
       "    }\n",
       "</style>\n",
       "<table border=\"1\" class=\"dataframe\">\n",
       "  <thead>\n",
       "    <tr style=\"text-align: right;\">\n",
       "      <th></th>\n",
       "      <th>Bank Name</th>\n",
       "      <th>ATM_Onsite</th>\n",
       "      <th>ATM_Offsite</th>\n",
       "      <th>POS_Online</th>\n",
       "      <th>CC_Outstanding</th>\n",
       "      <th>CC_ATM_Transaction</th>\n",
       "      <th>CC_POS_Transaction</th>\n",
       "      <th>CC_ATM_Amount</th>\n",
       "      <th>CC_POS_Amount</th>\n",
       "      <th>DC_Oustanding</th>\n",
       "      <th>DC_ATM_Transaction</th>\n",
       "      <th>DC_POS_Transaction</th>\n",
       "      <th>DC_ATM_amount</th>\n",
       "      <th>DC_POS_amount</th>\n",
       "      <th>bank_type</th>\n",
       "      <th>DC_POS_PTransac2019</th>\n",
       "    </tr>\n",
       "  </thead>\n",
       "  <tbody>\n",
       "    <tr>\n",
       "      <th>0</th>\n",
       "      <td>ALLAHABAD BANK</td>\n",
       "      <td>761</td>\n",
       "      <td>196</td>\n",
       "      <td>3116</td>\n",
       "      <td>0</td>\n",
       "      <td>0</td>\n",
       "      <td>0</td>\n",
       "      <td>0.0</td>\n",
       "      <td>0.0</td>\n",
       "      <td>5910582</td>\n",
       "      <td>9068676</td>\n",
       "      <td>3259136</td>\n",
       "      <td>2.277379e+10</td>\n",
       "      <td>3.491793e+09</td>\n",
       "      <td>Government Bank</td>\n",
       "      <td>1071.38618</td>\n",
       "    </tr>\n",
       "  </tbody>\n",
       "</table>\n",
       "</div>"
      ],
      "text/plain": [
       "        Bank Name  ATM_Onsite  ATM_Offsite  POS_Online  CC_Outstanding  \\\n",
       "0  ALLAHABAD BANK         761          196        3116               0   \n",
       "\n",
       "   CC_ATM_Transaction  CC_POS_Transaction  CC_ATM_Amount  CC_POS_Amount  \\\n",
       "0                   0                   0            0.0            0.0   \n",
       "\n",
       "   DC_Oustanding  DC_ATM_Transaction  DC_POS_Transaction  DC_ATM_amount  \\\n",
       "0        5910582             9068676             3259136   2.277379e+10   \n",
       "\n",
       "   DC_POS_amount        bank_type  DC_POS_PTransac2019  \n",
       "0   3.491793e+09  Government Bank           1071.38618  "
      ]
     },
     "execution_count": 20,
     "metadata": {},
     "output_type": "execute_result"
    }
   ],
   "source": [
    "df_2019.head(1)"
   ]
  },
  {
   "cell_type": "markdown",
   "metadata": {},
   "source": [
    "As seen above one can find the **'Per Transaction'** column at the end of the dataframe. The above function was done for Debit Card POS transactions. Similar functions will be carried for Credit Card as well."
   ]
  },
  {
   "cell_type": "code",
   "execution_count": 21,
   "metadata": {},
   "outputs": [],
   "source": [
    "for ind,row in df_2019.iterrows():\n",
    "    df_2019.loc[ind,\"CC_POS_PTransac2019\"]=row[\"CC_POS_Amount\"]/row[\"CC_POS_Transaction\"] if row[\"CC_POS_Transaction\"]!=0 else 0"
   ]
  },
  {
   "cell_type": "code",
   "execution_count": 22,
   "metadata": {},
   "outputs": [],
   "source": [
    "for ind,row in df_2019.iterrows():\n",
    "    df_2019.loc[ind,\"CC_ATM_PTransac2019\"]=row[\"CC_ATM_Amount\"]/row[\"CC_ATM_Transaction\"] if row[\"CC_ATM_Transaction\"]!=0 else 0"
   ]
  },
  {
   "cell_type": "code",
   "execution_count": 23,
   "metadata": {},
   "outputs": [],
   "source": [
    "for ind,row in df_2019.iterrows():\n",
    "    df_2019.loc[ind,\"DC_ATM_PTransac2019\"]=row[\"DC_ATM_amount\"]/row[\"DC_ATM_Transaction\"] if row[\"DC_ATM_Transaction\"]!=0 else 0"
   ]
  },
  {
   "cell_type": "code",
   "execution_count": 24,
   "metadata": {},
   "outputs": [
    {
     "data": {
      "text/html": [
       "<div>\n",
       "<style scoped>\n",
       "    .dataframe tbody tr th:only-of-type {\n",
       "        vertical-align: middle;\n",
       "    }\n",
       "\n",
       "    .dataframe tbody tr th {\n",
       "        vertical-align: top;\n",
       "    }\n",
       "\n",
       "    .dataframe thead th {\n",
       "        text-align: right;\n",
       "    }\n",
       "</style>\n",
       "<table border=\"1\" class=\"dataframe\">\n",
       "  <thead>\n",
       "    <tr style=\"text-align: right;\">\n",
       "      <th></th>\n",
       "      <th>Bank Name</th>\n",
       "      <th>ATM_Onsite</th>\n",
       "      <th>ATM_Offsite</th>\n",
       "      <th>POS_Online</th>\n",
       "      <th>CC_Outstanding</th>\n",
       "      <th>CC_ATM_Transaction</th>\n",
       "      <th>CC_POS_Transaction</th>\n",
       "      <th>CC_ATM_Amount</th>\n",
       "      <th>CC_POS_Amount</th>\n",
       "      <th>DC_Oustanding</th>\n",
       "      <th>DC_ATM_Transaction</th>\n",
       "      <th>DC_POS_Transaction</th>\n",
       "      <th>DC_ATM_amount</th>\n",
       "      <th>DC_POS_amount</th>\n",
       "      <th>bank_type</th>\n",
       "      <th>DC_POS_PTransac2019</th>\n",
       "      <th>CC_POS_PTransac2019</th>\n",
       "      <th>CC_ATM_PTransac2019</th>\n",
       "      <th>DC_ATM_PTransac2019</th>\n",
       "    </tr>\n",
       "  </thead>\n",
       "  <tbody>\n",
       "    <tr>\n",
       "      <th>0</th>\n",
       "      <td>ALLAHABAD BANK</td>\n",
       "      <td>761</td>\n",
       "      <td>196</td>\n",
       "      <td>3116</td>\n",
       "      <td>0</td>\n",
       "      <td>0</td>\n",
       "      <td>0</td>\n",
       "      <td>0.0</td>\n",
       "      <td>0.0</td>\n",
       "      <td>5910582</td>\n",
       "      <td>9068676</td>\n",
       "      <td>3259136</td>\n",
       "      <td>2.277379e+10</td>\n",
       "      <td>3.491793e+09</td>\n",
       "      <td>Government Bank</td>\n",
       "      <td>1071.38618</td>\n",
       "      <td>0.0</td>\n",
       "      <td>0.0</td>\n",
       "      <td>2511.258014</td>\n",
       "    </tr>\n",
       "  </tbody>\n",
       "</table>\n",
       "</div>"
      ],
      "text/plain": [
       "        Bank Name  ATM_Onsite  ATM_Offsite  POS_Online  CC_Outstanding  \\\n",
       "0  ALLAHABAD BANK         761          196        3116               0   \n",
       "\n",
       "   CC_ATM_Transaction  CC_POS_Transaction  CC_ATM_Amount  CC_POS_Amount  \\\n",
       "0                   0                   0            0.0            0.0   \n",
       "\n",
       "   DC_Oustanding  DC_ATM_Transaction  DC_POS_Transaction  DC_ATM_amount  \\\n",
       "0        5910582             9068676             3259136   2.277379e+10   \n",
       "\n",
       "   DC_POS_amount        bank_type  DC_POS_PTransac2019  CC_POS_PTransac2019  \\\n",
       "0   3.491793e+09  Government Bank           1071.38618                  0.0   \n",
       "\n",
       "   CC_ATM_PTransac2019  DC_ATM_PTransac2019  \n",
       "0                  0.0          2511.258014  "
      ]
     },
     "execution_count": 24,
     "metadata": {},
     "output_type": "execute_result"
    }
   ],
   "source": [
    "df_2019.head(1)"
   ]
  },
  {
   "cell_type": "markdown",
   "metadata": {},
   "source": [
    "### Group and plot certain Numerical variables together for a comparison study with the target variable"
   ]
  },
  {
   "cell_type": "code",
   "execution_count": 25,
   "metadata": {},
   "outputs": [],
   "source": [
    "cols1 = df_2019[['ATM_Onsite','ATM_Offsite','POS_Online']].columns.tolist()\n",
    "cols2 = df_2019[['CC_Outstanding','CC_ATM_Transaction','CC_POS_Transaction']].columns.tolist()\n",
    "cols3 = df_2019[['DC_ATM_Transaction','DC_POS_Transaction','DC_ATM_amount']].columns.tolist()\n",
    "cols5 = df_2019[['DC_Oustanding','DC_POS_PTransac2019','CC_POS_PTransac2019']]\n",
    "cols6 = df_2019[['CC_ATM_PTransac2019','DC_ATM_PTransac2019']]"
   ]
  },
  {
   "cell_type": "code",
   "execution_count": 26,
   "metadata": {},
   "outputs": [],
   "source": [
    "import seaborn as sns\n",
    "def bi_plot(x):\n",
    "    plt.figure(figsize=(12,7))\n",
    "    for i,count in enumerate(x):\n",
    "        plt.subplot(2,2,i+1)\n",
    "        #plt.subplots_adjust(hspace=3, wspace=7)\n",
    "        sns.boxplot(df_2019['bank_type'],df_2019[count],palette=\"YlOrBr_r\",showmeans=True,showfliers=False)#hue_order=['Private Bank','Government Bank'])\n",
    "        plt.title('Bank Ownership Vs '+count,fontsize=12,fontweight = 'bold')\n",
    "        plt.tight_layout()"
   ]
  },
  {
   "cell_type": "code",
   "execution_count": 27,
   "metadata": {},
   "outputs": [
    {
     "name": "stderr",
     "output_type": "stream",
     "text": [
      "C:\\Users\\sanyalam\\Anaconda3\\lib\\site-packages\\seaborn\\_decorators.py:36: FutureWarning: Pass the following variables as keyword args: x, y. From version 0.12, the only valid positional argument will be `data`, and passing other arguments without an explicit keyword will result in an error or misinterpretation.\n",
      "  warnings.warn(\n",
      "C:\\Users\\sanyalam\\Anaconda3\\lib\\site-packages\\seaborn\\_decorators.py:36: FutureWarning: Pass the following variables as keyword args: x, y. From version 0.12, the only valid positional argument will be `data`, and passing other arguments without an explicit keyword will result in an error or misinterpretation.\n",
      "  warnings.warn(\n",
      "C:\\Users\\sanyalam\\Anaconda3\\lib\\site-packages\\seaborn\\_decorators.py:36: FutureWarning: Pass the following variables as keyword args: x, y. From version 0.12, the only valid positional argument will be `data`, and passing other arguments without an explicit keyword will result in an error or misinterpretation.\n",
      "  warnings.warn(\n"
     ]
    },
    {
     "data": {
      "image/png": "[encoded data removed]",
      "text/plain": [
       "<Figure size 864x504 with 3 Axes>"
      ]
     },
     "metadata": {
      "needs_background": "light"
     },
     "output_type": "display_data"
    }
   ],
   "source": [
    "bi_plot(cols2)"
   ]
  },
  {
   "cell_type": "code",
   "execution_count": 28,
   "metadata": {},
   "outputs": [
    {
     "name": "stderr",
     "output_type": "stream",
     "text": [
      "C:\\Users\\sanyalam\\Anaconda3\\lib\\site-packages\\seaborn\\_decorators.py:36: FutureWarning: Pass the following variables as keyword args: x, y. From version 0.12, the only valid positional argument will be `data`, and passing other arguments without an explicit keyword will result in an error or misinterpretation.\n",
      "  warnings.warn(\n",
      "C:\\Users\\sanyalam\\Anaconda3\\lib\\site-packages\\seaborn\\_decorators.py:36: FutureWarning: Pass the following variables as keyword args: x, y. From version 0.12, the only valid positional argument will be `data`, and passing other arguments without an explicit keyword will result in an error or misinterpretation.\n",
      "  warnings.warn(\n"
     ]
    },
    {
     "data": {
      "image/png": "[encoded data removed]",
      "text/plain": [
       "<Figure size 864x504 with 2 Axes>"
      ]
     },
     "metadata": {
      "needs_background": "light"
     },
     "output_type": "display_data"
    }
   ],
   "source": [
    "bi_plot(cols6)"
   ]
  },
  {
   "cell_type": "markdown",
   "metadata": {},
   "source": [
    "### Sorting on the basis of ownership of banks: Government and Private\n",
    "\n",
    "> Two new separate datasets will be created: one will only consist of government banks and the other private."
   ]
  },
  {
   "cell_type": "code",
   "execution_count": 29,
   "metadata": {},
   "outputs": [],
   "source": [
    "government_bank=(df_2019['bank_type']=='Government Bank')\n",
    "government_2019=df_2019[government_bank]"
   ]
  },
  {
   "cell_type": "code",
   "execution_count": 30,
   "metadata": {},
   "outputs": [],
   "source": [
    "private_bank=(df_2019['bank_type']=='Private Bank')\n",
    "private_2019=df_2019[private_bank]"
   ]
  },
  {
   "cell_type": "markdown",
   "metadata": {},
   "source": [
    "### Basic Data Visualisation of the government dataset\n",
    "\n",
    " > We will be plotting the Avergage Transaction value for DC of government banks. This will give us an idea of how the banks stack up with eatch other"
   ]
  },
  {
   "cell_type": "code",
   "execution_count": 31,
   "metadata": {},
   "outputs": [],
   "source": [
    "import seaborn as sns\n",
    "import matplotlib.pyplot as plt"
   ]
  },
  {
   "cell_type": "code",
   "execution_count": 32,
   "metadata": {},
   "outputs": [
    {
     "data": {
      "text/plain": [
       "1264.670437639341"
      ]
     },
     "execution_count": 32,
     "metadata": {},
     "output_type": "execute_result"
    }
   ],
   "source": [
    "median_govt=government_2019['DC_POS_PTransac2019'].median()\n",
    "median_govt"
   ]
  },
  {
   "cell_type": "markdown",
   "metadata": {},
   "source": [
    "For data visualisation we have imported both seaborn and matplotlib functions. \n",
    "> Median is taken here because it is a better estimator than mean as it is not distorted by outliers. \n",
    "\n",
    "We have mapped two values in this below graph\n",
    "- On the left Y axis is the ***Average value per transaction*** of debit cards(POS Machine)\n",
    "- On the right Y axis is the ***number*** of Debit Card transactions \n",
    "\n",
    "### Inference from the plot\n",
    "- The bank with the highest average value per transaction is **Jammu and Kashmir Bank** and the lowest being **Bank of Baroda**\n",
    "- But herein the line plot of number of Debit card transactions comes into play\n",
    "- We can infer that even though J&K Bank had the highest but in terms of transactions it is way lower than the other banks.\n",
    "> **State Bank of India** with the highest number of transactions has done well along with **Canara Bank** in maintaining average transaction value"
   ]
  },
  {
   "cell_type": "code",
   "execution_count": 33,
   "metadata": {},
   "outputs": [
    {
     "data": {
      "image/png": "[encoded data removed]",
      "text/plain": [
       "<Figure size 648x216 with 2 Axes>"
      ]
     },
     "metadata": {
      "needs_background": "light"
     },
     "output_type": "display_data"
    }
   ],
   "source": [
    "plot=sns.catplot(x=\"Bank Name\",y=\"DC_POS_PTransac2019\",data=government_2019,kind='bar',height=3,aspect=3,palette='Spectral')\n",
    "plt.axhline(median_govt,color='k',linestyle=\"--\",label='Median: 1264.67')\n",
    "plt.legend()\n",
    "plt.xticks(rotation=90)\n",
    "plt.xlabel(\"Government Banks\")\n",
    "plt.ylabel(\"Average Transaction Value Debit Cards P-O-S\", color='g')\n",
    "plt.title('Average Value Per Transaction Debit Card For Government Banks-2019')\n",
    "plt.grid(False)\n",
    "\n",
    "for i, bar in enumerate(plot.ax.patches):\n",
    "    h = bar.get_height()\n",
    "    plot.ax.text(\n",
    "        i, # bar index (x coordinate of text)\n",
    "        h+10, # y coordinate of text\n",
    "        '{}'.format(int(h)),  # y label\n",
    "        ha='center', \n",
    "        va='top', \n",
    "        color='black',\n",
    "        fontweight='bold',\n",
    "        rotation=90,\n",
    "        size=9)\n",
    "\n",
    "x = government_2019[\"Bank Name\"]\n",
    "y = government_2019[\"DC_POS_Transaction\"]\n",
    "axes2 = plt.twinx()\n",
    "axes2.plot(x, y, color='b',label='Debit Card POS',marker='o', markerfacecolor='red',markersize=12,linestyle='dashed', linewidth = 2)\n",
    "plt.legend(loc='center left')\n",
    "axes2.set_ylabel('Total Number of Transactions',color='b')\n",
    "axes2.annotate('Highest',(17,1.11e8),color='black',ha='left')\n",
    "plt.grid(False)\n",
    "plt.savefig('spectral1.png',bbox_inches='tight')"
   ]
  },
  {
   "cell_type": "markdown",
   "metadata": {},
   "source": [
    "## 2018 Dataset\n",
    "\n",
    "We will perform the same functions conducted above for the 2018 dataset as well, this will help us get two main dataframes to work further on our analysis\n",
    "\n",
    ">**Disclaimer**: Since it is almost a repeat of the above functions. some definitons will not be repeated so as to keep the document more compact and creating room to delve into newer analysis."
   ]
  },
  {
   "cell_type": "code",
   "execution_count": 34,
   "metadata": {},
   "outputs": [],
   "source": [
    "df_2018=pd.read_excel(\"May_2018 - Copy.XLS\")"
   ]
  },
  {
   "cell_type": "code",
   "execution_count": 35,
   "metadata": {},
   "outputs": [
    {
     "data": {
      "text/html": [
       "<div>\n",
       "<style scoped>\n",
       "    .dataframe tbody tr th:only-of-type {\n",
       "        vertical-align: middle;\n",
       "    }\n",
       "\n",
       "    .dataframe tbody tr th {\n",
       "        vertical-align: top;\n",
       "    }\n",
       "\n",
       "    .dataframe thead th {\n",
       "        text-align: right;\n",
       "    }\n",
       "</style>\n",
       "<table border=\"1\" class=\"dataframe\">\n",
       "  <thead>\n",
       "    <tr style=\"text-align: right;\">\n",
       "      <th></th>\n",
       "      <th>Sr.No</th>\n",
       "      <th>Bank Name</th>\n",
       "      <th>ATM_Onsite</th>\n",
       "      <th>ATM_Offsite</th>\n",
       "      <th>POS_Online</th>\n",
       "      <th>POS_Offline</th>\n",
       "      <th>CC_Outstanding</th>\n",
       "      <th>CC_ATM_Transaction</th>\n",
       "      <th>CC_POS_Transaction</th>\n",
       "      <th>CC_ATM_Amount</th>\n",
       "      <th>CC_POS_Amount</th>\n",
       "      <th>DC_Oustanding</th>\n",
       "      <th>DC_ATM_Transaction</th>\n",
       "      <th>DC_POS_Transaction</th>\n",
       "      <th>DC_ATM_amount</th>\n",
       "      <th>DC_POS_amount</th>\n",
       "    </tr>\n",
       "  </thead>\n",
       "  <tbody>\n",
       "    <tr>\n",
       "      <th>65</th>\n",
       "      <td>66.0</td>\n",
       "      <td>UTKARSH SMALL FINANCE BANK LIMITED</td>\n",
       "      <td>62</td>\n",
       "      <td>34</td>\n",
       "      <td>0</td>\n",
       "      <td>0</td>\n",
       "      <td>0</td>\n",
       "      <td>0</td>\n",
       "      <td>0</td>\n",
       "      <td>0.000000</td>\n",
       "      <td>0.000000</td>\n",
       "      <td>44043</td>\n",
       "      <td>144572</td>\n",
       "      <td>8574</td>\n",
       "      <td>4.255318e+02</td>\n",
       "      <td>10.300426</td>\n",
       "    </tr>\n",
       "    <tr>\n",
       "      <th>66</th>\n",
       "      <td>NaN</td>\n",
       "      <td>Total</td>\n",
       "      <td>107230</td>\n",
       "      <td>99759</td>\n",
       "      <td>3247096</td>\n",
       "      <td>0</td>\n",
       "      <td>38604630</td>\n",
       "      <td>748783</td>\n",
       "      <td>138290485</td>\n",
       "      <td>3500.192271</td>\n",
       "      <td>472847.658263</td>\n",
       "      <td>923962038</td>\n",
       "      <td>748042005</td>\n",
       "      <td>352117113</td>\n",
       "      <td>2.647508e+06</td>\n",
       "      <td>468079.355028</td>\n",
       "    </tr>\n",
       "  </tbody>\n",
       "</table>\n",
       "</div>"
      ],
      "text/plain": [
       "    Sr.No                           Bank Name  ATM_Onsite  ATM_Offsite  \\\n",
       "65   66.0  UTKARSH SMALL FINANCE BANK LIMITED          62           34   \n",
       "66    NaN                               Total      107230        99759   \n",
       "\n",
       "    POS_Online  POS_Offline  CC_Outstanding  CC_ATM_Transaction  \\\n",
       "65           0            0               0                   0   \n",
       "66     3247096            0        38604630              748783   \n",
       "\n",
       "    CC_POS_Transaction  CC_ATM_Amount  CC_POS_Amount  DC_Oustanding  \\\n",
       "65                   0       0.000000       0.000000          44043   \n",
       "66           138290485    3500.192271  472847.658263      923962038   \n",
       "\n",
       "    DC_ATM_Transaction  DC_POS_Transaction  DC_ATM_amount  DC_POS_amount  \n",
       "65              144572                8574   4.255318e+02      10.300426  \n",
       "66           748042005           352117113   2.647508e+06  468079.355028  "
      ]
     },
     "execution_count": 35,
     "metadata": {},
     "output_type": "execute_result"
    }
   ],
   "source": [
    "df_2018.tail(2)"
   ]
  },
  {
   "cell_type": "code",
   "execution_count": 36,
   "metadata": {},
   "outputs": [],
   "source": [
    "df_2018.drop('Sr.No',axis=1,inplace=True)\n",
    "df_2018.drop([66],axis=0,inplace=True)"
   ]
  },
  {
   "cell_type": "code",
   "execution_count": 37,
   "metadata": {},
   "outputs": [
    {
     "name": "stdout",
     "output_type": "stream",
     "text": [
      "(66, 15)\n"
     ]
    }
   ],
   "source": [
    "print(df_2018.shape)"
   ]
  },
  {
   "cell_type": "markdown",
   "metadata": {},
   "source": [
    "**Inference**: There are 66 rows indicating that there are 66 banks in the dataset along with 15 columns of categories. So, basically there were two banks that had been there in 2018 which stopped operating as of 2019. "
   ]
  },
  {
   "cell_type": "code",
   "execution_count": 38,
   "metadata": {},
   "outputs": [],
   "source": [
    "bank_type=[]\n",
    "for row in df_2018['Bank Name']:\n",
    "    if row=='ALLAHABAD BANK' or row=='ANDHRA BANK' or row=='BANK OF BARODA' or row== 'BANK OF INDIA' or row=='BANK OF MAHARASHTRA'or row=='CANARA BANK' or row=='CENTRAL BANK OF INDIA' or row== 'CORPORATION BANK' or row== 'INDIAN BANK' or row== 'INDIAN OVERSEAS BANK' or row== 'ORIENTAL BANK OF COMMERCE' or row=='PUNJAB AND SIND BANK' or row== 'PUNJAB NATIONAL BANK' or row=='SYNDICATE BANK' or row=='UCO BANK' or row=='UNION BANK OF INDIA' or row=='UNITED BANK OF INDIA' or row== 'STATE BANK OF INDIA' or row=='CITY UNION BANK' or row== 'JAMMU AND KASHMIR BANK' or row=='KARNATAKA BANK LTD' or row=='DENA BANK' or row=='VIJAYA BANK':\n",
    "        bank_type.append('Government Bank')\n",
    "    else:\n",
    "        bank_type.append('Private Bank')"
   ]
  },
  {
   "cell_type": "code",
   "execution_count": 39,
   "metadata": {},
   "outputs": [],
   "source": [
    "df_2018['bank_type']=bank_type"
   ]
  },
  {
   "cell_type": "code",
   "execution_count": 40,
   "metadata": {},
   "outputs": [
    {
     "data": {
      "text/plain": [
       "Private Bank       43\n",
       "Government Bank    23\n",
       "Name: bank_type, dtype: int64"
      ]
     },
     "execution_count": 40,
     "metadata": {},
     "output_type": "execute_result"
    }
   ],
   "source": [
    "df_2018.bank_type.value_counts()"
   ]
  },
  {
   "cell_type": "markdown",
   "metadata": {},
   "source": [
    "> From this we can infer that as of 2019 May, two banks which had been operating in 2018 were merged with other entities to make a bigger consortium. This was a new startegy of Indian government to consolidate the bad loans and to give the smaller banks room to breathe. "
   ]
  },
  {
   "cell_type": "markdown",
   "metadata": {},
   "source": [
    "###  Expanding POS and ATM transaction values: 2018 Dataset\n",
    "\n",
    ">Formula to be used: **Card type(DC OR CC) Amount=Card type(DC OR CC) Amount  x INR 10,00,000**"
   ]
  },
  {
   "cell_type": "code",
   "execution_count": 41,
   "metadata": {},
   "outputs": [],
   "source": [
    "df_2018['CC_ATM_Amount']=df_2018['CC_ATM_Amount']*1000000"
   ]
  },
  {
   "cell_type": "code",
   "execution_count": 42,
   "metadata": {},
   "outputs": [],
   "source": [
    "df_2018['DC_ATM_amount']=df_2018['DC_ATM_amount']*1000000"
   ]
  },
  {
   "cell_type": "code",
   "execution_count": 43,
   "metadata": {},
   "outputs": [],
   "source": [
    "df_2018['DC_POS_amount']=df_2018['DC_POS_amount']*1000000"
   ]
  },
  {
   "cell_type": "code",
   "execution_count": 44,
   "metadata": {},
   "outputs": [],
   "source": [
    "df_2018['CC_POS_Amount']=df_2018['CC_POS_Amount']*1000000"
   ]
  },
  {
   "cell_type": "markdown",
   "metadata": {},
   "source": [
    "### Average transaction value per card type of a bank : 2018 Dataset\n",
    "\n",
    "> The formula used will be: **Average Transaction Value(card type): Total Value of Transactions/Total number of transactions**\n",
    "\n"
   ]
  },
  {
   "cell_type": "code",
   "execution_count": 45,
   "metadata": {},
   "outputs": [],
   "source": [
    "for ind,row in df_2018.iterrows():\n",
    "    df_2018.loc[ind,\"DC_POS_PTransac2018\"]=row[\"DC_POS_amount\"]/row[\"DC_POS_Transaction\"] if row[\"DC_POS_Transaction\"]!=0 else 0"
   ]
  },
  {
   "cell_type": "code",
   "execution_count": 46,
   "metadata": {},
   "outputs": [],
   "source": [
    "for ind,row in df_2018.iterrows():\n",
    "    df_2018.loc[ind,\"CC_POS_PTransac2018\"]=row[\"CC_POS_Amount\"]/row[\"CC_POS_Transaction\"] if row[\"CC_POS_Transaction\"]!=0 else 0"
   ]
  },
  {
   "cell_type": "code",
   "execution_count": 47,
   "metadata": {},
   "outputs": [],
   "source": [
    "for ind,row in df_2018.iterrows():\n",
    "    df_2018.loc[ind,\"CC_ATM_PTransac2018\"]=row[\"CC_ATM_Amount\"]/row[\"CC_ATM_Transaction\"] if row[\"CC_ATM_Transaction\"]!=0 else 0"
   ]
  },
  {
   "cell_type": "code",
   "execution_count": 48,
   "metadata": {},
   "outputs": [],
   "source": [
    "for ind,row in df_2018.iterrows():\n",
    "    df_2018.loc[ind,\"DC_ATM_PTransac2018\"]=row[\"DC_ATM_amount\"]/row[\"DC_ATM_Transaction\"] if row[\"DC_ATM_Transaction\"]!=0 else 0"
   ]
  },
  {
   "cell_type": "code",
   "execution_count": 49,
   "metadata": {},
   "outputs": [
    {
     "data": {
      "text/html": [
       "<div>\n",
       "<style scoped>\n",
       "    .dataframe tbody tr th:only-of-type {\n",
       "        vertical-align: middle;\n",
       "    }\n",
       "\n",
       "    .dataframe tbody tr th {\n",
       "        vertical-align: top;\n",
       "    }\n",
       "\n",
       "    .dataframe thead th {\n",
       "        text-align: right;\n",
       "    }\n",
       "</style>\n",
       "<table border=\"1\" class=\"dataframe\">\n",
       "  <thead>\n",
       "    <tr style=\"text-align: right;\">\n",
       "      <th></th>\n",
       "      <th>Bank Name</th>\n",
       "      <th>ATM_Onsite</th>\n",
       "      <th>ATM_Offsite</th>\n",
       "      <th>POS_Online</th>\n",
       "      <th>POS_Offline</th>\n",
       "      <th>CC_Outstanding</th>\n",
       "      <th>CC_ATM_Transaction</th>\n",
       "      <th>CC_POS_Transaction</th>\n",
       "      <th>CC_ATM_Amount</th>\n",
       "      <th>CC_POS_Amount</th>\n",
       "      <th>DC_Oustanding</th>\n",
       "      <th>DC_ATM_Transaction</th>\n",
       "      <th>DC_POS_Transaction</th>\n",
       "      <th>DC_ATM_amount</th>\n",
       "      <th>DC_POS_amount</th>\n",
       "      <th>bank_type</th>\n",
       "      <th>DC_POS_PTransac2018</th>\n",
       "      <th>CC_POS_PTransac2018</th>\n",
       "      <th>CC_ATM_PTransac2018</th>\n",
       "      <th>DC_ATM_PTransac2018</th>\n",
       "    </tr>\n",
       "  </thead>\n",
       "  <tbody>\n",
       "    <tr>\n",
       "      <th>0</th>\n",
       "      <td>ALLAHABAD BANK</td>\n",
       "      <td>850</td>\n",
       "      <td>265</td>\n",
       "      <td>3063</td>\n",
       "      <td>0</td>\n",
       "      <td>0</td>\n",
       "      <td>0</td>\n",
       "      <td>0</td>\n",
       "      <td>0.0</td>\n",
       "      <td>0.0</td>\n",
       "      <td>13042946</td>\n",
       "      <td>8196370</td>\n",
       "      <td>4687837</td>\n",
       "      <td>2.016164e+10</td>\n",
       "      <td>3.023796e+09</td>\n",
       "      <td>Government Bank</td>\n",
       "      <td>645.030087</td>\n",
       "      <td>0.0</td>\n",
       "      <td>0.0</td>\n",
       "      <td>2459.826034</td>\n",
       "    </tr>\n",
       "  </tbody>\n",
       "</table>\n",
       "</div>"
      ],
      "text/plain": [
       "        Bank Name  ATM_Onsite  ATM_Offsite  POS_Online  POS_Offline  \\\n",
       "0  ALLAHABAD BANK         850          265        3063            0   \n",
       "\n",
       "   CC_Outstanding  CC_ATM_Transaction  CC_POS_Transaction  CC_ATM_Amount  \\\n",
       "0               0                   0                   0            0.0   \n",
       "\n",
       "   CC_POS_Amount  DC_Oustanding  DC_ATM_Transaction  DC_POS_Transaction  \\\n",
       "0            0.0       13042946             8196370             4687837   \n",
       "\n",
       "   DC_ATM_amount  DC_POS_amount        bank_type  DC_POS_PTransac2018  \\\n",
       "0   2.016164e+10   3.023796e+09  Government Bank           645.030087   \n",
       "\n",
       "   CC_POS_PTransac2018  CC_ATM_PTransac2018  DC_ATM_PTransac2018  \n",
       "0                  0.0                  0.0          2459.826034  "
      ]
     },
     "execution_count": 49,
     "metadata": {},
     "output_type": "execute_result"
    }
   ],
   "source": [
    "df_2018.head(1)"
   ]
  },
  {
   "cell_type": "markdown",
   "metadata": {},
   "source": [
    "### Sorting on the basis of ownership type: 2018 Dataset"
   ]
  },
  {
   "cell_type": "code",
   "execution_count": 50,
   "metadata": {},
   "outputs": [],
   "source": [
    "government_bank1=(df_2018['bank_type']=='Government Bank')\n",
    "government_2018=df_2018[government_bank1]"
   ]
  },
  {
   "cell_type": "code",
   "execution_count": 51,
   "metadata": {},
   "outputs": [],
   "source": [
    "private_bank1=(df_2018['bank_type']=='Private Bank')\n",
    "private_2018=df_2018[private_bank1]"
   ]
  },
  {
   "cell_type": "markdown",
   "metadata": {},
   "source": [
    "### Data visualisation of the banks for 2018 and 2019, data based on their ownership status\n",
    "\n",
    "**Inference**: \n",
    "- From the 2018 dataset one can see that for both private and government the data is clustered around certain values. For government banks the data is clustered around INR 1000-2000 per transaction for debit cards.\n",
    "- For private banks the range is more wide i.e, from 0 to 2000 INR. There is one outlier value in private banks where one bank has an average transaction of INR 6000."
   ]
  },
  {
   "cell_type": "code",
   "execution_count": 52,
   "metadata": {},
   "outputs": [
    {
     "data": {
      "text/plain": [
       "<seaborn.axisgrid.FacetGrid at 0x1dbdedf7460>"
      ]
     },
     "execution_count": 52,
     "metadata": {},
     "output_type": "execute_result"
    },
    {
     "data": {
      "image/png": "[encoded data removed]",
      "text/plain": [
       "<Figure size 360x360 with 1 Axes>"
      ]
     },
     "metadata": {
      "needs_background": "light"
     },
     "output_type": "display_data"
    }
   ],
   "source": [
    "sns.catplot(data=df_2018,x='bank_type',y='DC_POS_PTransac2018')"
   ]
  },
  {
   "cell_type": "markdown",
   "metadata": {},
   "source": [
    "**Inference**: \n",
    "- From the 2019 dataset, similarly like the 2018 dataset one can see that for both private and government the data is clustered around certain values. For government banks the data is clustered around INR 1000-2000 per transaction for debit cards.\n",
    "- For private banks the range is more wide i.e, from 0 to 2000 INR. There is one outlier value in private banks where one bank has an average transaction of INR 5000."
   ]
  },
  {
   "cell_type": "code",
   "execution_count": 53,
   "metadata": {},
   "outputs": [
    {
     "data": {
      "text/plain": [
       "<seaborn.axisgrid.FacetGrid at 0x1dbdedd2400>"
      ]
     },
     "execution_count": 53,
     "metadata": {},
     "output_type": "execute_result"
    },
    {
     "data": {
      "image/png": "[encoded data removed]",
      "text/plain": [
       "<Figure size 360x360 with 1 Axes>"
      ]
     },
     "metadata": {
      "needs_background": "light"
     },
     "output_type": "display_data"
    }
   ],
   "source": [
    "sns.catplot(data=df_2019,x='bank_type',y='DC_POS_PTransac2019')"
   ]
  },
  {
   "cell_type": "markdown",
   "metadata": {},
   "source": [
    "## Merging Dataframes"
   ]
  },
  {
   "cell_type": "markdown",
   "metadata": {},
   "source": [
    "The two sorted dataframes of 2018 and 2019 will be merged to get the year-on-year performance of each bank based on certain categories. So there will be merged dataframes for both government and private banks. This will be helpful in understanding which government/private banks had standout performance on a yearly basis. "
   ]
  },
  {
   "cell_type": "markdown",
   "metadata": {},
   "source": [
    "### Private Banks Debit Card POS Machines"
   ]
  },
  {
   "cell_type": "code",
   "execution_count": 54,
   "metadata": {},
   "outputs": [],
   "source": [
    "pvt_dcpos_2019=private_2019[['Bank Name','DC_POS_Transaction','DC_POS_PTransac2019']]"
   ]
  },
  {
   "cell_type": "code",
   "execution_count": 55,
   "metadata": {},
   "outputs": [],
   "source": [
    "pvt_dcpos_2018=private_2018[['Bank Name','DC_POS_Transaction','DC_POS_PTransac2018']]"
   ]
  },
  {
   "cell_type": "markdown",
   "metadata": {},
   "source": [
    "Creating new dataframe consisting of the above 5 columns (Bank Name will be similar for both)"
   ]
  },
  {
   "cell_type": "code",
   "execution_count": 56,
   "metadata": {},
   "outputs": [
    {
     "data": {
      "text/html": [
       "<div>\n",
       "<style scoped>\n",
       "    .dataframe tbody tr th:only-of-type {\n",
       "        vertical-align: middle;\n",
       "    }\n",
       "\n",
       "    .dataframe tbody tr th {\n",
       "        vertical-align: top;\n",
       "    }\n",
       "\n",
       "    .dataframe thead th {\n",
       "        text-align: right;\n",
       "    }\n",
       "</style>\n",
       "<table border=\"1\" class=\"dataframe\">\n",
       "  <thead>\n",
       "    <tr style=\"text-align: right;\">\n",
       "      <th></th>\n",
       "      <th>Bank Name</th>\n",
       "      <th>DC_POS_Transaction_x</th>\n",
       "      <th>DC_POS_PTransac2019</th>\n",
       "      <th>DC_POS_Transaction_y</th>\n",
       "      <th>DC_POS_PTransac2018</th>\n",
       "    </tr>\n",
       "  </thead>\n",
       "  <tbody>\n",
       "    <tr>\n",
       "      <th>0</th>\n",
       "      <td>IDBI LTD</td>\n",
       "      <td>6327793</td>\n",
       "      <td>1372.945740</td>\n",
       "      <td>7331453</td>\n",
       "      <td>1011.880551</td>\n",
       "    </tr>\n",
       "    <tr>\n",
       "      <th>1</th>\n",
       "      <td>AXIS BANK LTD</td>\n",
       "      <td>28524901</td>\n",
       "      <td>1509.317696</td>\n",
       "      <td>23046431</td>\n",
       "      <td>1464.204999</td>\n",
       "    </tr>\n",
       "  </tbody>\n",
       "</table>\n",
       "</div>"
      ],
      "text/plain": [
       "       Bank Name  DC_POS_Transaction_x  DC_POS_PTransac2019  \\\n",
       "0       IDBI LTD               6327793          1372.945740   \n",
       "1  AXIS BANK LTD              28524901          1509.317696   \n",
       "\n",
       "   DC_POS_Transaction_y  DC_POS_PTransac2018  \n",
       "0               7331453          1011.880551  \n",
       "1              23046431          1464.204999  "
      ]
     },
     "execution_count": 56,
     "metadata": {},
     "output_type": "execute_result"
    }
   ],
   "source": [
    "pvt_dcpos_combined=pd.merge(left=pvt_dcpos_2019,right=pvt_dcpos_2018,left_on='Bank Name',right_on='Bank Name')\n",
    "pvt_dcpos_combined.head(2)"
   ]
  },
  {
   "cell_type": "code",
   "execution_count": 57,
   "metadata": {},
   "outputs": [],
   "source": [
    "#Renaming columns to avoid confusion\n",
    "pvt_dcpos_combined=pvt_dcpos_combined.rename(columns={'DC_POS_Transaction_x':'DC_POS_Transaction_2019','DC_POS_Transaction_y':'DC_POS_Transaction_2018'})"
   ]
  },
  {
   "cell_type": "code",
   "execution_count": 58,
   "metadata": {},
   "outputs": [
    {
     "data": {
      "text/html": [
       "<div>\n",
       "<style scoped>\n",
       "    .dataframe tbody tr th:only-of-type {\n",
       "        vertical-align: middle;\n",
       "    }\n",
       "\n",
       "    .dataframe tbody tr th {\n",
       "        vertical-align: top;\n",
       "    }\n",
       "\n",
       "    .dataframe thead th {\n",
       "        text-align: right;\n",
       "    }\n",
       "</style>\n",
       "<table border=\"1\" class=\"dataframe\">\n",
       "  <thead>\n",
       "    <tr style=\"text-align: right;\">\n",
       "      <th></th>\n",
       "      <th>Bank Name</th>\n",
       "      <th>DC_POS_Transaction_2019</th>\n",
       "      <th>DC_POS_PTransac2019</th>\n",
       "      <th>DC_POS_Transaction_2018</th>\n",
       "      <th>DC_POS_PTransac2018</th>\n",
       "    </tr>\n",
       "  </thead>\n",
       "  <tbody>\n",
       "    <tr>\n",
       "      <th>0</th>\n",
       "      <td>IDBI LTD</td>\n",
       "      <td>6327793</td>\n",
       "      <td>1372.94574</td>\n",
       "      <td>7331453</td>\n",
       "      <td>1011.880551</td>\n",
       "    </tr>\n",
       "  </tbody>\n",
       "</table>\n",
       "</div>"
      ],
      "text/plain": [
       "  Bank Name  DC_POS_Transaction_2019  DC_POS_PTransac2019  \\\n",
       "0  IDBI LTD                  6327793           1372.94574   \n",
       "\n",
       "   DC_POS_Transaction_2018  DC_POS_PTransac2018  \n",
       "0                  7331453          1011.880551  "
      ]
     },
     "execution_count": 58,
     "metadata": {},
     "output_type": "execute_result"
    }
   ],
   "source": [
    "pvt_dcpos_combined.head(1)"
   ]
  },
  {
   "cell_type": "markdown",
   "metadata": {},
   "source": [
    "Finding out **Year on Year Growth** for both ***number of transactions*** as well as ***average value per transaction for a card***\n",
    "> Formula to be used: YOY growth (in absolute terms): (Final Value (2019)-Initial Value(2018))/Initial value(2018)"
   ]
  },
  {
   "cell_type": "markdown",
   "metadata": {},
   "source": [
    "- YoY growth for Average Value per transaction **Debit Card** POS machines: ***PRIVATE BANKS***"
   ]
  },
  {
   "cell_type": "code",
   "execution_count": 59,
   "metadata": {},
   "outputs": [],
   "source": [
    "pvt_dcpos_combined['YoY_growth_PTransac']=((pvt_dcpos_combined['DC_POS_PTransac2019']-pvt_dcpos_combined['DC_POS_PTransac2018'])/pvt_dcpos_combined['DC_POS_PTransac2018'])*100"
   ]
  },
  {
   "cell_type": "markdown",
   "metadata": {},
   "source": [
    "- YoY growth for number of Transactions **Debit Card** POS Machines: ***PRIVATE BANKS***"
   ]
  },
  {
   "cell_type": "code",
   "execution_count": 60,
   "metadata": {},
   "outputs": [],
   "source": [
    "pvt_dcpos_combined['YoY_gr_Transac']=((pvt_dcpos_combined['DC_POS_Transaction_2019']-pvt_dcpos_combined['DC_POS_Transaction_2018'])/pvt_dcpos_combined['DC_POS_Transaction_2018'])*100"
   ]
  },
  {
   "cell_type": "markdown",
   "metadata": {},
   "source": [
    "Below, it can be seen that the new columns are added to the dataframe. This dataframe will be further used for analysis. \n",
    "> **Note**: The percentage sign is not shown to avoid miscalculations. But all the growth rates are multiplied by 100 and can be considered as the accurate percentage"
   ]
  },
  {
   "cell_type": "code",
   "execution_count": 61,
   "metadata": {},
   "outputs": [
    {
     "data": {
      "text/html": [
       "<div>\n",
       "<style scoped>\n",
       "    .dataframe tbody tr th:only-of-type {\n",
       "        vertical-align: middle;\n",
       "    }\n",
       "\n",
       "    .dataframe tbody tr th {\n",
       "        vertical-align: top;\n",
       "    }\n",
       "\n",
       "    .dataframe thead th {\n",
       "        text-align: right;\n",
       "    }\n",
       "</style>\n",
       "<table border=\"1\" class=\"dataframe\">\n",
       "  <thead>\n",
       "    <tr style=\"text-align: right;\">\n",
       "      <th></th>\n",
       "      <th>Bank Name</th>\n",
       "      <th>DC_POS_Transaction_2019</th>\n",
       "      <th>DC_POS_PTransac2019</th>\n",
       "      <th>DC_POS_Transaction_2018</th>\n",
       "      <th>DC_POS_PTransac2018</th>\n",
       "      <th>YoY_growth_PTransac</th>\n",
       "      <th>YoY_gr_Transac</th>\n",
       "    </tr>\n",
       "  </thead>\n",
       "  <tbody>\n",
       "    <tr>\n",
       "      <th>0</th>\n",
       "      <td>IDBI LTD</td>\n",
       "      <td>6327793</td>\n",
       "      <td>1372.945740</td>\n",
       "      <td>7331453</td>\n",
       "      <td>1011.880551</td>\n",
       "      <td>35.682590</td>\n",
       "      <td>-13.689783</td>\n",
       "    </tr>\n",
       "    <tr>\n",
       "      <th>1</th>\n",
       "      <td>AXIS BANK LTD</td>\n",
       "      <td>28524901</td>\n",
       "      <td>1509.317696</td>\n",
       "      <td>23046431</td>\n",
       "      <td>1464.204999</td>\n",
       "      <td>3.081037</td>\n",
       "      <td>23.771446</td>\n",
       "    </tr>\n",
       "  </tbody>\n",
       "</table>\n",
       "</div>"
      ],
      "text/plain": [
       "       Bank Name  DC_POS_Transaction_2019  DC_POS_PTransac2019  \\\n",
       "0       IDBI LTD                  6327793          1372.945740   \n",
       "1  AXIS BANK LTD                 28524901          1509.317696   \n",
       "\n",
       "   DC_POS_Transaction_2018  DC_POS_PTransac2018  YoY_growth_PTransac  \\\n",
       "0                  7331453          1011.880551            35.682590   \n",
       "1                 23046431          1464.204999             3.081037   \n",
       "\n",
       "   YoY_gr_Transac  \n",
       "0      -13.689783  \n",
       "1       23.771446  "
      ]
     },
     "execution_count": 61,
     "metadata": {},
     "output_type": "execute_result"
    }
   ],
   "source": [
    "pvt_dcpos_combined.head(2)"
   ]
  },
  {
   "cell_type": "markdown",
   "metadata": {},
   "source": [
    "- To find out the number of '0' values in the dataset. We will count it out and try to remove them from the dataset. After running the below code one can find that 20 values are there in the dataset which has '0' in it."
   ]
  },
  {
   "cell_type": "code",
   "execution_count": 62,
   "metadata": {},
   "outputs": [
    {
     "data": {
      "text/plain": [
       "20"
      ]
     },
     "execution_count": 62,
     "metadata": {},
     "output_type": "execute_result"
    }
   ],
   "source": [
    "num = 0\n",
    "for i in pvt_dcpos_combined.columns:\n",
    "    num += pvt_dcpos_combined[i][pvt_dcpos_combined[i]==0].count()\n",
    "num"
   ]
  },
  {
   "cell_type": "markdown",
   "metadata": {},
   "source": [
    "> Replacing the '0' values in the dataset with 'Nan' and then dropping them from the dataset. This will give us a much **arranged dataset** to work on"
   ]
  },
  {
   "cell_type": "code",
   "execution_count": 63,
   "metadata": {},
   "outputs": [],
   "source": [
    "nan_value=float(\"Nan\")\n",
    "pvt_dcpos_combined.replace(0,nan_value,inplace=True)"
   ]
  },
  {
   "cell_type": "code",
   "execution_count": 64,
   "metadata": {},
   "outputs": [],
   "source": [
    "pvt_dcpos_combined=pvt_dcpos_combined.dropna()"
   ]
  },
  {
   "cell_type": "markdown",
   "metadata": {},
   "source": [
    "### Steps for Visualisation of growth rates"
   ]
  },
  {
   "cell_type": "markdown",
   "metadata": {},
   "source": [
    "- Even after dropping the 0 values the dataset is still large. We need to make it more compressed to show the values which matter for data visualisation\n",
    "- The next step is to figure out the banks which have maintained a consistent transaction level across two years. So a minimum threshold value of **500,000** transactions are set for the private banks to qualify "
   ]
  },
  {
   "cell_type": "code",
   "execution_count": 65,
   "metadata": {},
   "outputs": [],
   "source": [
    "pvt_dcpos_combined=pvt_dcpos_combined[(pvt_dcpos_combined['DC_POS_Transaction_2018']>500000) & (pvt_dcpos_combined['DC_POS_Transaction_2019']>500000)]"
   ]
  },
  {
   "cell_type": "markdown",
   "metadata": {},
   "source": [
    "- On applying those restrictions we see that 16 banks have maintained a stady transaction level"
   ]
  },
  {
   "cell_type": "markdown",
   "metadata": {},
   "source": [
    "### Visualisation using Seaborn: YoY growth of average value of transaction of Debit Cards for Private Banks\n",
    "\n",
    "> A horizontal bar graph has been used to show how the banks have done over the past year. \n",
    "- On Y axis is the Bank Name\n",
    "- On X axis is the YoY growth"
   ]
  },
  {
   "cell_type": "code",
   "execution_count": 66,
   "metadata": {},
   "outputs": [
    {
     "data": {
      "image/png": "[encoded data removed]",
      "text/plain": [
       "<Figure size 720x504 with 1 Axes>"
      ]
     },
     "metadata": {},
     "output_type": "display_data"
    }
   ],
   "source": [
    "from matplotlib import pyplot as plt\n",
    "import seaborn as sns\n",
    "sns.set(style='whitegrid')\n",
    "sns.set_color_codes('muted')\n",
    "plt.figure(figsize=(10,7))\n",
    "ax=sns.barplot(x='YoY_growth_PTransac', y='Bank Name', data=pvt_dcpos_combined, color='cyan',ci='None')\n",
    "plt.ylabel(\"Private Banks\")\n",
    "plt.xlabel(\"Growth Rate of Average Transaction Value Debit Cards P-O-S\", color='r')\n",
    "plt.xticks(rotation=90)\n",
    "plt.title('DEBIT CARDS AVG. TRANSACTION VALUE Y-O-Y GROWTH RATE',fontweight='bold')\n",
    "sns.despine(left=True, bottom=True)\n",
    "\n",
    "for p in ax.patches:\n",
    "    width = p.get_width()\n",
    "    plt.text(0.5+p.get_width(), p.get_y()+0.55*p.get_height(),\n",
    "             '{:1.2f}%'.format(width),\n",
    "             ha='center', va='center',fontweight='bold')"
   ]
  },
  {
   "cell_type": "markdown",
   "metadata": {},
   "source": [
    "### Inference:\n",
    " \n",
    "> From the above chart we can see that most of the banks had a **positive growth rate**. \n",
    "> Banks such as **PAYTM, KOTAK, IDFC and IDBI** have outperformed other banks\n",
    "- This can be attributed to a few things such as:\n",
    "1. The propensity to spend increased within a year even though the Indian economy was rocked by various internal as well as external setbacks.\n",
    "2. With the advent of digitisation and consumers embracing a cashless economy, these are some of the indicators why banks have shown an increase in average revenue per transaction\n",
    "3. As will be shown below, most of the banks also saw a rise in **number of transactions** which indicate that people spent more and also frequently transacted more via POS or ATM's than the previous years."
   ]
  },
  {
   "cell_type": "markdown",
   "metadata": {},
   "source": [
    "### Data Visualisation of Number of Transactions Growth Rate for Debit cards"
   ]
  },
  {
   "cell_type": "code",
   "execution_count": 67,
   "metadata": {},
   "outputs": [
    {
     "data": {
      "image/png": "[encoded data removed]",
      "text/plain": [
       "<Figure size 792x432 with 1 Axes>"
      ]
     },
     "metadata": {},
     "output_type": "display_data"
    }
   ],
   "source": [
    "import matplotlib.pyplot as plt\n",
    "plt.rcParams[\"figure.figsize\"] = (11,6)\n",
    "ax.tick_params(axis='x', labelrotation=45)\n",
    "x = pvt_dcpos_combined[\"Bank Name\"]\n",
    "y = pvt_dcpos_combined[\"YoY_gr_Transac\"]\n",
    "plt.plot(x, y, color='b',label='Debit Card POS YoY Growth',marker='o', markerfacecolor='red',markersize=12,linestyle='dashdot', linewidth = 3)\n",
    "plt.legend(loc='upper left')\n",
    "axes2.set_ylabel('Total Number of Transactions',color='b')\n",
    "plt.xticks(rotation=90)\n",
    "plt.title('YoY GROWTH OF NUMBER OF TRANSACTIONS',fontweight='bold')\n",
    "plt.xlabel('PRIVATE BANKS')\n",
    "plt.ylabel('YoY growth rate')\n",
    "plt.draw()\n",
    "plt.grid(False)\n",
    "\n",
    "for x1,y1 in zip(x,y):\n",
    "\n",
    "    label = \"{:.1f}%\".format(y1)\n",
    "\n",
    "    plt.annotate(label, # this is the text\n",
    "                 (x1,y1), # these are the coordinates to position the label\n",
    "                 textcoords=\"offset points\", # how to position the text\n",
    "                 xytext=(0,10), # distance from text to points (x,y)\n",
    "                 ha='center',fontweight='bold') # horizontal alignment can be left, right or center\n",
    "\n",
    "plt.show()"
   ]
  },
  {
   "cell_type": "markdown",
   "metadata": {},
   "source": [
    "## Private Banks Credit Cards POS Machines"
   ]
  },
  {
   "cell_type": "code",
   "execution_count": 68,
   "metadata": {},
   "outputs": [],
   "source": [
    "pvt_ccpos_2019=private_2019[['Bank Name','CC_POS_Transaction','CC_POS_PTransac2019']]"
   ]
  },
  {
   "cell_type": "code",
   "execution_count": 69,
   "metadata": {},
   "outputs": [],
   "source": [
    "pvt_ccpos_2018=private_2018[['Bank Name','CC_POS_Transaction','CC_POS_PTransac2018']]"
   ]
  },
  {
   "cell_type": "markdown",
   "metadata": {},
   "source": [
    "### Merging Dataframes"
   ]
  },
  {
   "cell_type": "code",
   "execution_count": 70,
   "metadata": {},
   "outputs": [
    {
     "data": {
      "text/html": [
       "<div>\n",
       "<style scoped>\n",
       "    .dataframe tbody tr th:only-of-type {\n",
       "        vertical-align: middle;\n",
       "    }\n",
       "\n",
       "    .dataframe tbody tr th {\n",
       "        vertical-align: top;\n",
       "    }\n",
       "\n",
       "    .dataframe thead th {\n",
       "        text-align: right;\n",
       "    }\n",
       "</style>\n",
       "<table border=\"1\" class=\"dataframe\">\n",
       "  <thead>\n",
       "    <tr style=\"text-align: right;\">\n",
       "      <th></th>\n",
       "      <th>Bank Name</th>\n",
       "      <th>CC_POS_Transaction_x</th>\n",
       "      <th>CC_POS_PTransac2019</th>\n",
       "      <th>CC_POS_Transaction_y</th>\n",
       "      <th>CC_POS_PTransac2018</th>\n",
       "    </tr>\n",
       "  </thead>\n",
       "  <tbody>\n",
       "    <tr>\n",
       "      <th>0</th>\n",
       "      <td>IDBI LTD</td>\n",
       "      <td>137806</td>\n",
       "      <td>2470.969672</td>\n",
       "      <td>158789</td>\n",
       "      <td>2255.585380</td>\n",
       "    </tr>\n",
       "    <tr>\n",
       "      <th>1</th>\n",
       "      <td>AXIS BANK LTD</td>\n",
       "      <td>16677302</td>\n",
       "      <td>3864.842951</td>\n",
       "      <td>13127005</td>\n",
       "      <td>3709.814795</td>\n",
       "    </tr>\n",
       "  </tbody>\n",
       "</table>\n",
       "</div>"
      ],
      "text/plain": [
       "       Bank Name  CC_POS_Transaction_x  CC_POS_PTransac2019  \\\n",
       "0       IDBI LTD                137806          2470.969672   \n",
       "1  AXIS BANK LTD              16677302          3864.842951   \n",
       "\n",
       "   CC_POS_Transaction_y  CC_POS_PTransac2018  \n",
       "0                158789          2255.585380  \n",
       "1              13127005          3709.814795  "
      ]
     },
     "execution_count": 70,
     "metadata": {},
     "output_type": "execute_result"
    }
   ],
   "source": [
    "pvt_ccpos_combined=pd.merge(left=pvt_ccpos_2019,right=pvt_ccpos_2018,left_on='Bank Name',right_on='Bank Name')\n",
    "pvt_ccpos_combined.head(2)"
   ]
  },
  {
   "cell_type": "code",
   "execution_count": 71,
   "metadata": {},
   "outputs": [],
   "source": [
    "pvt_ccpos_combined=pvt_ccpos_combined.rename(columns={'CC_POS_Transaction_x':'CC_POS_Transaction_2019','CC_POS_Transaction_y':'CC_POS_Transaction_2018'})"
   ]
  },
  {
   "cell_type": "code",
   "execution_count": 72,
   "metadata": {},
   "outputs": [
    {
     "data": {
      "text/html": [
       "<div>\n",
       "<style scoped>\n",
       "    .dataframe tbody tr th:only-of-type {\n",
       "        vertical-align: middle;\n",
       "    }\n",
       "\n",
       "    .dataframe tbody tr th {\n",
       "        vertical-align: top;\n",
       "    }\n",
       "\n",
       "    .dataframe thead th {\n",
       "        text-align: right;\n",
       "    }\n",
       "</style>\n",
       "<table border=\"1\" class=\"dataframe\">\n",
       "  <thead>\n",
       "    <tr style=\"text-align: right;\">\n",
       "      <th></th>\n",
       "      <th>Bank Name</th>\n",
       "      <th>CC_POS_Transaction_2019</th>\n",
       "      <th>CC_POS_PTransac2019</th>\n",
       "      <th>CC_POS_Transaction_2018</th>\n",
       "      <th>CC_POS_PTransac2018</th>\n",
       "    </tr>\n",
       "  </thead>\n",
       "  <tbody>\n",
       "    <tr>\n",
       "      <th>0</th>\n",
       "      <td>IDBI LTD</td>\n",
       "      <td>137806</td>\n",
       "      <td>2470.969672</td>\n",
       "      <td>158789</td>\n",
       "      <td>2255.58538</td>\n",
       "    </tr>\n",
       "  </tbody>\n",
       "</table>\n",
       "</div>"
      ],
      "text/plain": [
       "  Bank Name  CC_POS_Transaction_2019  CC_POS_PTransac2019  \\\n",
       "0  IDBI LTD                   137806          2470.969672   \n",
       "\n",
       "   CC_POS_Transaction_2018  CC_POS_PTransac2018  \n",
       "0                   158789           2255.58538  "
      ]
     },
     "execution_count": 72,
     "metadata": {},
     "output_type": "execute_result"
    }
   ],
   "source": [
    "pvt_ccpos_combined.head(1)"
   ]
  },
  {
   "cell_type": "code",
   "execution_count": 73,
   "metadata": {},
   "outputs": [
    {
     "data": {
      "text/plain": [
       "106"
      ]
     },
     "execution_count": 73,
     "metadata": {},
     "output_type": "execute_result"
    }
   ],
   "source": [
    "num1 = 0\n",
    "for j in pvt_ccpos_combined.columns:\n",
    "    num1 += pvt_ccpos_combined[j][pvt_ccpos_combined[j]==0].count()\n",
    "num1"
   ]
  },
  {
   "cell_type": "markdown",
   "metadata": {},
   "source": [
    "> From this above code we can see that there are around 106 values which have '0' in them. There is a requirement to remove them as they are not useful for further analysis.\n",
    "> We would replace them by NaN and do the required analyis."
   ]
  },
  {
   "cell_type": "code",
   "execution_count": 74,
   "metadata": {},
   "outputs": [],
   "source": [
    "nan_value=float(\"Nan\")\n",
    "pvt_ccpos_combined.replace(0,nan_value,inplace=True)"
   ]
  },
  {
   "cell_type": "code",
   "execution_count": 75,
   "metadata": {},
   "outputs": [],
   "source": [
    "pvt_ccpos_combined=pvt_ccpos_combined.dropna()"
   ]
  },
  {
   "cell_type": "code",
   "execution_count": 76,
   "metadata": {},
   "outputs": [
    {
     "name": "stdout",
     "output_type": "stream",
     "text": [
      "(16, 5)\n"
     ]
    }
   ],
   "source": [
    "print(pvt_ccpos_combined.shape) "
   ]
  },
  {
   "cell_type": "markdown",
   "metadata": {},
   "source": [
    "- YoY growth for Average Value per transaction **Credit Card** POS machines: ***PRIVATE BANKS***"
   ]
  },
  {
   "cell_type": "code",
   "execution_count": 77,
   "metadata": {},
   "outputs": [],
   "source": [
    "pvt_ccpos_combined['YoY_growth_PTransacCC']=((pvt_ccpos_combined['CC_POS_PTransac2019']-pvt_ccpos_combined['CC_POS_PTransac2018'])/pvt_ccpos_combined['CC_POS_PTransac2018'])*100"
   ]
  },
  {
   "cell_type": "markdown",
   "metadata": {},
   "source": [
    "- YoY growth for number of Transactions **Credit Card** POS Machines: ***PRIVATE BANKS***"
   ]
  },
  {
   "cell_type": "code",
   "execution_count": 78,
   "metadata": {},
   "outputs": [],
   "source": [
    "pvt_ccpos_combined['YoY_gr_TransacCC']=((pvt_ccpos_combined['CC_POS_Transaction_2019']-pvt_ccpos_combined['CC_POS_Transaction_2018'])/pvt_ccpos_combined['CC_POS_Transaction_2018'])*100"
   ]
  },
  {
   "cell_type": "code",
   "execution_count": 79,
   "metadata": {},
   "outputs": [
    {
     "data": {
      "text/html": [
       "<div>\n",
       "<style scoped>\n",
       "    .dataframe tbody tr th:only-of-type {\n",
       "        vertical-align: middle;\n",
       "    }\n",
       "\n",
       "    .dataframe tbody tr th {\n",
       "        vertical-align: top;\n",
       "    }\n",
       "\n",
       "    .dataframe thead th {\n",
       "        text-align: right;\n",
       "    }\n",
       "</style>\n",
       "<table border=\"1\" class=\"dataframe\">\n",
       "  <thead>\n",
       "    <tr style=\"text-align: right;\">\n",
       "      <th></th>\n",
       "      <th>Bank Name</th>\n",
       "      <th>CC_POS_Transaction_2019</th>\n",
       "      <th>CC_POS_PTransac2019</th>\n",
       "      <th>CC_POS_Transaction_2018</th>\n",
       "      <th>CC_POS_PTransac2018</th>\n",
       "      <th>YoY_growth_PTransacCC</th>\n",
       "      <th>YoY_gr_TransacCC</th>\n",
       "    </tr>\n",
       "  </thead>\n",
       "  <tbody>\n",
       "    <tr>\n",
       "      <th>0</th>\n",
       "      <td>IDBI LTD</td>\n",
       "      <td>137806.0</td>\n",
       "      <td>2470.969672</td>\n",
       "      <td>158789.0</td>\n",
       "      <td>2255.58538</td>\n",
       "      <td>9.548931</td>\n",
       "      <td>-13.214391</td>\n",
       "    </tr>\n",
       "  </tbody>\n",
       "</table>\n",
       "</div>"
      ],
      "text/plain": [
       "  Bank Name  CC_POS_Transaction_2019  CC_POS_PTransac2019  \\\n",
       "0  IDBI LTD                 137806.0          2470.969672   \n",
       "\n",
       "   CC_POS_Transaction_2018  CC_POS_PTransac2018  YoY_growth_PTransacCC  \\\n",
       "0                 158789.0           2255.58538               9.548931   \n",
       "\n",
       "   YoY_gr_TransacCC  \n",
       "0        -13.214391  "
      ]
     },
     "execution_count": 79,
     "metadata": {},
     "output_type": "execute_result"
    }
   ],
   "source": [
    "pvt_ccpos_combined.head(1)"
   ]
  },
  {
   "cell_type": "markdown",
   "metadata": {},
   "source": [
    "### Visualisation using Seaborn: YoY growth of average value of transaction of Credit Cards for Private Banks (POS Machines)\n",
    "\n",
    "> A horizontal bar graph has been used to show how the banks have done over the past year. \n",
    "- On Y axis is the Bank Name\n",
    "- On X axis is the YoY growth"
   ]
  },
  {
   "cell_type": "code",
   "execution_count": 80,
   "metadata": {},
   "outputs": [
    {
     "data": {
      "image/png": "[encoded data removed]",
      "text/plain": [
       "<Figure size 720x504 with 1 Axes>"
      ]
     },
     "metadata": {},
     "output_type": "display_data"
    }
   ],
   "source": [
    "from matplotlib import pyplot as plt\n",
    "import seaborn as sns\n",
    "sns.set(style='whitegrid')\n",
    "sns.set_color_codes('muted')\n",
    "plt.figure(figsize=(10,7))\n",
    "ax=sns.barplot(x='YoY_growth_PTransacCC', y='Bank Name', data=pvt_ccpos_combined, color='b',ci='None')\n",
    "plt.ylabel(\"Private Banks\")\n",
    "plt.xlabel(\"Growth Rate of Average Transaction Value Credit Cards P-O-S\", color='r')\n",
    "plt.xticks(rotation=90)\n",
    "plt.title('CREDIT CARDS AVG. TRANSACTION VALUE Y-O-Y GROWTH RATE--POS Machines',fontweight='bold')\n",
    "sns.despine(left=True, bottom=True)\n",
    "\n",
    "for p in ax.patches:\n",
    "    width = p.get_width()\n",
    "    plt.text(0.5+p.get_width(), p.get_y()+0.55*p.get_height(),\n",
    "             '{:1.2f}%'.format(width),\n",
    "             ha='center', va='center',fontweight='bold')\n",
    "    \n",
    "plt.savefig('credit_cards.png',bbox_inches='tight',pad_inches=2,transparent=True)"
   ]
  },
  {
   "cell_type": "markdown",
   "metadata": {},
   "source": [
    "### Inference:\n",
    " \n",
    "> From the above chart we can see that a 50-50 split of banks b/w **positive growth rate** and **negative growth rate**. \n",
    "> Banks such as **DCB, HDFC, INDUSIND** have outperformed other banks in terms of growth rate.\n",
    "- But it is imprtant to understand how these growth rates stand with the Transaction values. Some banks may show exemplary performance but their transaction levels are **meager** compared to banks such as **HDFC** or **ICICI** who have a huge customer base. So outperforming them in terms of growth doesn't stand out much based on **transaction levels**"
   ]
  },
  {
   "cell_type": "markdown",
   "metadata": {},
   "source": [
    "### Data Visualisation of Number of Transactions Growth Rate for Credit cards"
   ]
  },
  {
   "cell_type": "code",
   "execution_count": 81,
   "metadata": {},
   "outputs": [
    {
     "data": {
      "image/png": "[encoded data removed]",
      "text/plain": [
       "<Figure size 864x432 with 1 Axes>"
      ]
     },
     "metadata": {},
     "output_type": "display_data"
    }
   ],
   "source": [
    "from matplotlib.pyplot import figure\n",
    "figure(figsize=(12,6))\n",
    "ax.tick_params(axis='x', labelrotation=45)\n",
    "x = pvt_ccpos_combined[\"Bank Name\"]\n",
    "y = pvt_ccpos_combined[\"YoY_gr_TransacCC\"]\n",
    "plt.plot(x, y, color='b',label='Credit Card POS YoY Growth',marker='o', markerfacecolor='red',markersize=12,linestyle='dashdot', linewidth = 3)\n",
    "plt.legend(loc='upper right')\n",
    "axes2.set_ylabel('Total Number of Transactions',color='b')\n",
    "plt.xticks(rotation=90)\n",
    "plt.title('YoY GROWTH OF NUMBER OF TRANSACTIONS',fontweight='bold')\n",
    "plt.xlabel('PRIVATE BANKS')\n",
    "plt.ylabel('YoY growth rate')\n",
    "plt.draw()\n",
    "plt.grid(False)\n",
    "\n",
    "for x1,y1 in zip(x,y):\n",
    "\n",
    "    label = \"{:.1f}%\".format(y1)\n",
    "\n",
    "    plt.annotate(label, # this is the text\n",
    "                 (x1,y1), # these are the coordinates to position the label\n",
    "                 textcoords=\"offset points\", # how to position the text\n",
    "                 xytext=(0,10), # distance from text to points (x,y)\n",
    "                 ha='center') # horizontal alignment can be left, right or center\n",
    "\n"
   ]
  },
  {
   "cell_type": "markdown",
   "metadata": {},
   "source": [
    "## BINNING DATA"
   ]
  },
  {
   "cell_type": "markdown",
   "metadata": {},
   "source": [
    "The next step is to bin data based on certain factors. This will help us analyse the dataset from a different view; based on categories. \n",
    "> Once the data is divided into categories then further segregation can be done of the dataset to compare and then provide inference"
   ]
  },
  {
   "cell_type": "markdown",
   "metadata": {},
   "source": [
    "### Private Banks Dataset 2018: POS Machine \n",
    "> We will be first conducting our analysis on the Debit Cards POS Machine variables and categorise them for further analysis.\n",
    "- The main objective of binning is to divide the data based on certain prerequisites. For example if I want to bin on the basis of Transaction values, I can categorise certain values as **High** only after they cross a certain threshold. These steps are further elaborated in the following lines of code."
   ]
  },
  {
   "cell_type": "markdown",
   "metadata": {},
   "source": [
    "- ***Creating New dataframe consisting of CC transaction values,DC transaction values and the average revenue per transactions***"
   ]
  },
  {
   "cell_type": "code",
   "execution_count": 82,
   "metadata": {},
   "outputs": [],
   "source": [
    "bin_private_2018=private_2018[['Bank Name','DC_POS_PTransac2018','CC_POS_PTransac2018','POS_Online','CC_POS_Transaction','DC_POS_Transaction']]"
   ]
  },
  {
   "cell_type": "code",
   "execution_count": 83,
   "metadata": {},
   "outputs": [
    {
     "data": {
      "text/html": [
       "<div>\n",
       "<style scoped>\n",
       "    .dataframe tbody tr th:only-of-type {\n",
       "        vertical-align: middle;\n",
       "    }\n",
       "\n",
       "    .dataframe tbody tr th {\n",
       "        vertical-align: top;\n",
       "    }\n",
       "\n",
       "    .dataframe thead th {\n",
       "        text-align: right;\n",
       "    }\n",
       "</style>\n",
       "<table border=\"1\" class=\"dataframe\">\n",
       "  <thead>\n",
       "    <tr style=\"text-align: right;\">\n",
       "      <th></th>\n",
       "      <th>DC_POS_PTransac2018</th>\n",
       "      <th>CC_POS_PTransac2018</th>\n",
       "      <th>POS_Online</th>\n",
       "      <th>CC_POS_Transaction</th>\n",
       "      <th>DC_POS_Transaction</th>\n",
       "    </tr>\n",
       "    <tr>\n",
       "      <th>Bank Name</th>\n",
       "      <th></th>\n",
       "      <th></th>\n",
       "      <th></th>\n",
       "      <th></th>\n",
       "      <th></th>\n",
       "    </tr>\n",
       "  </thead>\n",
       "  <tbody>\n",
       "    <tr>\n",
       "      <th>IDBI LTD</th>\n",
       "      <td>1011.880551</td>\n",
       "      <td>2255.58538</td>\n",
       "      <td>30102</td>\n",
       "      <td>158789</td>\n",
       "      <td>7331453</td>\n",
       "    </tr>\n",
       "  </tbody>\n",
       "</table>\n",
       "</div>"
      ],
      "text/plain": [
       "           DC_POS_PTransac2018  CC_POS_PTransac2018  POS_Online  \\\n",
       "Bank Name                                                         \n",
       "IDBI LTD           1011.880551           2255.58538       30102   \n",
       "\n",
       "           CC_POS_Transaction  DC_POS_Transaction  \n",
       "Bank Name                                          \n",
       "IDBI LTD               158789             7331453  "
      ]
     },
     "execution_count": 83,
     "metadata": {},
     "output_type": "execute_result"
    }
   ],
   "source": [
    "bin_private_2018.set_index('Bank Name').head(1)"
   ]
  },
  {
   "cell_type": "markdown",
   "metadata": {},
   "source": [
    "- From previous datasets it is known that 'O values are there in the dataset. So converting those '0's to NaN to compress the dataset as those will be dropped. "
   ]
  },
  {
   "cell_type": "code",
   "execution_count": 84,
   "metadata": {},
   "outputs": [
    {
     "name": "stderr",
     "output_type": "stream",
     "text": [
      "C:\\Users\\sanyalam\\Anaconda3\\lib\\site-packages\\pandas\\core\\frame.py:4379: SettingWithCopyWarning: \n",
      "A value is trying to be set on a copy of a slice from a DataFrame\n",
      "\n",
      "See the caveats in the documentation: https://pandas.pydata.org/pandas-docs/stable/user_guide/indexing.html#returning-a-view-versus-a-copy\n",
      "  return super().replace(\n"
     ]
    }
   ],
   "source": [
    "nan_value=float(\"Nan\")\n",
    "bin_private_2018.replace(0,nan_value,inplace=True)"
   ]
  },
  {
   "cell_type": "code",
   "execution_count": 85,
   "metadata": {},
   "outputs": [],
   "source": [
    "bin_pvt_DCPOS=bin_private_2018[bin_private_2018['DC_POS_PTransac2018'].notna()]"
   ]
  },
  {
   "cell_type": "markdown",
   "metadata": {},
   "source": [
    "> **Binning Process**: A function is created to divide the dataset based on cut points. The cutpoints will be then arranged as values to be used for binning. "
   ]
  },
  {
   "cell_type": "code",
   "execution_count": 86,
   "metadata": {},
   "outputs": [],
   "source": [
    "def binfunction(col,cut_points,labels=None):\n",
    "    minval=col.min()\n",
    "    maxval=col.max()\n",
    "    break_points=[minval]+cut_points+[maxval]\n",
    "    print(break_points)\n",
    "    if not labels:\n",
    "        labels=range(len(cut_points)+1)\n",
    "    colBin=pd.cut(col,bins=break_points,labels=labels,include_lowest=True,duplicates=\"drop\")\n",
    "    return colBin"
   ]
  },
  {
   "cell_type": "markdown",
   "metadata": {},
   "source": [
    "- The dataset is divided into **four labels** based on average revenue per transaction type. *ARPT: Average revenue per transaction\n",
    "1. Anything below 500 ARPT: Low \n",
    "2. Between 500-1000 ARPT: Average\n",
    "3. Between 1000-1500 ARPT: Above Average\n",
    "4. Anything greater than 1500: 'High'\n",
    "\n",
    "> The cut points for binning were chosen as such on closer analysis of the dataset. Most of the values for average DC transactions were clustered between these values. There are extremes in the dataset like the max: 5725 and min:80 but both dont have much influence in further analysis"
   ]
  },
  {
   "cell_type": "code",
   "execution_count": 87,
   "metadata": {},
   "outputs": [
    {
     "name": "stdout",
     "output_type": "stream",
     "text": [
      "[79.93376486527171, 500, 1000, 1500, 5725.9616000000005]\n"
     ]
    },
    {
     "name": "stderr",
     "output_type": "stream",
     "text": [
      "<ipython-input-87-bb2db5e2b483>:3: SettingWithCopyWarning: \n",
      "A value is trying to be set on a copy of a slice from a DataFrame.\n",
      "Try using .loc[row_indexer,col_indexer] = value instead\n",
      "\n",
      "See the caveats in the documentation: https://pandas.pydata.org/pandas-docs/stable/user_guide/indexing.html#returning-a-view-versus-a-copy\n",
      "  bin_pvt_DCPOS[\"Combined_category_DC\"]=binfunction(bin_pvt_DCPOS[\"DC_POS_PTransac2018\"],cut_points,labels)\n"
     ]
    },
    {
     "data": {
      "text/html": [
       "<div>\n",
       "<style scoped>\n",
       "    .dataframe tbody tr th:only-of-type {\n",
       "        vertical-align: middle;\n",
       "    }\n",
       "\n",
       "    .dataframe tbody tr th {\n",
       "        vertical-align: top;\n",
       "    }\n",
       "\n",
       "    .dataframe thead th {\n",
       "        text-align: right;\n",
       "    }\n",
       "</style>\n",
       "<table border=\"1\" class=\"dataframe\">\n",
       "  <thead>\n",
       "    <tr style=\"text-align: right;\">\n",
       "      <th></th>\n",
       "      <th>Bank Name</th>\n",
       "      <th>DC_POS_PTransac2018</th>\n",
       "      <th>CC_POS_PTransac2018</th>\n",
       "      <th>POS_Online</th>\n",
       "      <th>CC_POS_Transaction</th>\n",
       "      <th>DC_POS_Transaction</th>\n",
       "      <th>Combined_category_DC</th>\n",
       "    </tr>\n",
       "  </thead>\n",
       "  <tbody>\n",
       "    <tr>\n",
       "      <th>19</th>\n",
       "      <td>IDBI LTD</td>\n",
       "      <td>1011.880551</td>\n",
       "      <td>2255.585380</td>\n",
       "      <td>30102.0</td>\n",
       "      <td>158789.0</td>\n",
       "      <td>7331453.0</td>\n",
       "      <td>Above average</td>\n",
       "    </tr>\n",
       "    <tr>\n",
       "      <th>21</th>\n",
       "      <td>AXIS BANK LTD</td>\n",
       "      <td>1464.204999</td>\n",
       "      <td>3709.814795</td>\n",
       "      <td>505792.0</td>\n",
       "      <td>13127005.0</td>\n",
       "      <td>23046431.0</td>\n",
       "      <td>Above average</td>\n",
       "    </tr>\n",
       "    <tr>\n",
       "      <th>22</th>\n",
       "      <td>BANDHAN BANK LTD</td>\n",
       "      <td>1535.202965</td>\n",
       "      <td>NaN</td>\n",
       "      <td>22401.0</td>\n",
       "      <td>NaN</td>\n",
       "      <td>610698.0</td>\n",
       "      <td>High</td>\n",
       "    </tr>\n",
       "    <tr>\n",
       "      <th>23</th>\n",
       "      <td>CATHOLIC SYRIAN BANK LTD</td>\n",
       "      <td>1848.985839</td>\n",
       "      <td>NaN</td>\n",
       "      <td>NaN</td>\n",
       "      <td>NaN</td>\n",
       "      <td>165740.0</td>\n",
       "      <td>High</td>\n",
       "    </tr>\n",
       "    <tr>\n",
       "      <th>25</th>\n",
       "      <td>DCB BANK LTD</td>\n",
       "      <td>1903.629616</td>\n",
       "      <td>933.888026</td>\n",
       "      <td>1580.0</td>\n",
       "      <td>73901.0</td>\n",
       "      <td>307424.0</td>\n",
       "      <td>High</td>\n",
       "    </tr>\n",
       "  </tbody>\n",
       "</table>\n",
       "</div>"
      ],
      "text/plain": [
       "                   Bank Name  DC_POS_PTransac2018  CC_POS_PTransac2018  \\\n",
       "19                  IDBI LTD          1011.880551          2255.585380   \n",
       "21             AXIS BANK LTD          1464.204999          3709.814795   \n",
       "22          BANDHAN BANK LTD          1535.202965                  NaN   \n",
       "23  CATHOLIC SYRIAN BANK LTD          1848.985839                  NaN   \n",
       "25              DCB BANK LTD          1903.629616           933.888026   \n",
       "\n",
       "    POS_Online  CC_POS_Transaction  DC_POS_Transaction Combined_category_DC  \n",
       "19     30102.0            158789.0           7331453.0        Above average  \n",
       "21    505792.0          13127005.0          23046431.0        Above average  \n",
       "22     22401.0                 NaN            610698.0                 High  \n",
       "23         NaN                 NaN            165740.0                 High  \n",
       "25      1580.0             73901.0            307424.0                 High  "
      ]
     },
     "execution_count": 87,
     "metadata": {},
     "output_type": "execute_result"
    }
   ],
   "source": [
    "cut_points=[500,1000,1500]\n",
    "labels=[\"Low\",\"Average\",\"Above average\",\"High\"]\n",
    "bin_pvt_DCPOS[\"Combined_category_DC\"]=binfunction(bin_pvt_DCPOS[\"DC_POS_PTransac2018\"],cut_points,labels)\n",
    "bin_pvt_DCPOS.head(5)"
   ]
  },
  {
   "cell_type": "code",
   "execution_count": 88,
   "metadata": {},
   "outputs": [
    {
     "data": {
      "text/html": [
       "<div>\n",
       "<style scoped>\n",
       "    .dataframe tbody tr th:only-of-type {\n",
       "        vertical-align: middle;\n",
       "    }\n",
       "\n",
       "    .dataframe tbody tr th {\n",
       "        vertical-align: top;\n",
       "    }\n",
       "\n",
       "    .dataframe thead th {\n",
       "        text-align: right;\n",
       "    }\n",
       "</style>\n",
       "<table border=\"1\" class=\"dataframe\">\n",
       "  <thead>\n",
       "    <tr style=\"text-align: right;\">\n",
       "      <th></th>\n",
       "      <th>Bank Name</th>\n",
       "      <th>DC_POS_PTransac2018</th>\n",
       "      <th>POS_Online</th>\n",
       "      <th>DC_POS_Transaction</th>\n",
       "      <th>Combined_category_DC</th>\n",
       "    </tr>\n",
       "  </thead>\n",
       "  <tbody>\n",
       "    <tr>\n",
       "      <th>19</th>\n",
       "      <td>IDBI LTD</td>\n",
       "      <td>1011.880551</td>\n",
       "      <td>30102.0</td>\n",
       "      <td>7331453.0</td>\n",
       "      <td>Above average</td>\n",
       "    </tr>\n",
       "    <tr>\n",
       "      <th>21</th>\n",
       "      <td>AXIS BANK LTD</td>\n",
       "      <td>1464.204999</td>\n",
       "      <td>505792.0</td>\n",
       "      <td>23046431.0</td>\n",
       "      <td>Above average</td>\n",
       "    </tr>\n",
       "    <tr>\n",
       "      <th>22</th>\n",
       "      <td>BANDHAN BANK LTD</td>\n",
       "      <td>1535.202965</td>\n",
       "      <td>22401.0</td>\n",
       "      <td>610698.0</td>\n",
       "      <td>High</td>\n",
       "    </tr>\n",
       "    <tr>\n",
       "      <th>23</th>\n",
       "      <td>CATHOLIC SYRIAN BANK LTD</td>\n",
       "      <td>1848.985839</td>\n",
       "      <td>NaN</td>\n",
       "      <td>165740.0</td>\n",
       "      <td>High</td>\n",
       "    </tr>\n",
       "    <tr>\n",
       "      <th>25</th>\n",
       "      <td>DCB BANK LTD</td>\n",
       "      <td>1903.629616</td>\n",
       "      <td>1580.0</td>\n",
       "      <td>307424.0</td>\n",
       "      <td>High</td>\n",
       "    </tr>\n",
       "    <tr>\n",
       "      <th>26</th>\n",
       "      <td>DHANALAKSHMI BANK LTD</td>\n",
       "      <td>1583.415430</td>\n",
       "      <td>1114.0</td>\n",
       "      <td>225660.0</td>\n",
       "      <td>High</td>\n",
       "    </tr>\n",
       "    <tr>\n",
       "      <th>27</th>\n",
       "      <td>FEDERAL BANK LTD</td>\n",
       "      <td>1524.881522</td>\n",
       "      <td>11049.0</td>\n",
       "      <td>3155567.0</td>\n",
       "      <td>High</td>\n",
       "    </tr>\n",
       "    <tr>\n",
       "      <th>28</th>\n",
       "      <td>HDFC BANK LTD</td>\n",
       "      <td>1418.144113</td>\n",
       "      <td>414056.0</td>\n",
       "      <td>41316850.0</td>\n",
       "      <td>Above average</td>\n",
       "    </tr>\n",
       "    <tr>\n",
       "      <th>29</th>\n",
       "      <td>ICICI BANK LTD</td>\n",
       "      <td>1447.915133</td>\n",
       "      <td>333074.0</td>\n",
       "      <td>37037674.0</td>\n",
       "      <td>Above average</td>\n",
       "    </tr>\n",
       "    <tr>\n",
       "      <th>30</th>\n",
       "      <td>IDFC Bank Limited</td>\n",
       "      <td>856.039833</td>\n",
       "      <td>1642.0</td>\n",
       "      <td>835786.0</td>\n",
       "      <td>Average</td>\n",
       "    </tr>\n",
       "    <tr>\n",
       "      <th>31</th>\n",
       "      <td>INDUSIND BANK LTD</td>\n",
       "      <td>1553.425337</td>\n",
       "      <td>37269.0</td>\n",
       "      <td>2243294.0</td>\n",
       "      <td>High</td>\n",
       "    </tr>\n",
       "    <tr>\n",
       "      <th>34</th>\n",
       "      <td>KARUR VYSYA BANK LTD</td>\n",
       "      <td>1351.603826</td>\n",
       "      <td>21877.0</td>\n",
       "      <td>2275183.0</td>\n",
       "      <td>Above average</td>\n",
       "    </tr>\n",
       "    <tr>\n",
       "      <th>35</th>\n",
       "      <td>KOTAK MAHINDRA BANK LTD</td>\n",
       "      <td>1145.260913</td>\n",
       "      <td>9784.0</td>\n",
       "      <td>8217307.0</td>\n",
       "      <td>Above average</td>\n",
       "    </tr>\n",
       "    <tr>\n",
       "      <th>36</th>\n",
       "      <td>RATNAKAR BANK LIMITED</td>\n",
       "      <td>1267.182275</td>\n",
       "      <td>472430.0</td>\n",
       "      <td>449334.0</td>\n",
       "      <td>Above average</td>\n",
       "    </tr>\n",
       "    <tr>\n",
       "      <th>37</th>\n",
       "      <td>SOUTH INDIAN BANK</td>\n",
       "      <td>1515.966499</td>\n",
       "      <td>10166.0</td>\n",
       "      <td>1460603.0</td>\n",
       "      <td>High</td>\n",
       "    </tr>\n",
       "    <tr>\n",
       "      <th>38</th>\n",
       "      <td>TAMILNAD MERCANTILE BANK LTD</td>\n",
       "      <td>1746.710916</td>\n",
       "      <td>4957.0</td>\n",
       "      <td>369346.0</td>\n",
       "      <td>High</td>\n",
       "    </tr>\n",
       "    <tr>\n",
       "      <th>39</th>\n",
       "      <td>THE LAXMI VILAS BANK LTD</td>\n",
       "      <td>1740.409011</td>\n",
       "      <td>5668.0</td>\n",
       "      <td>201804.0</td>\n",
       "      <td>High</td>\n",
       "    </tr>\n",
       "    <tr>\n",
       "      <th>40</th>\n",
       "      <td>YES BANK LTD</td>\n",
       "      <td>1435.571683</td>\n",
       "      <td>86681.0</td>\n",
       "      <td>2535205.0</td>\n",
       "      <td>Above average</td>\n",
       "    </tr>\n",
       "    <tr>\n",
       "      <th>43</th>\n",
       "      <td>BARCLAYS BANK PLC</td>\n",
       "      <td>5725.961600</td>\n",
       "      <td>NaN</td>\n",
       "      <td>225.0</td>\n",
       "      <td>High</td>\n",
       "    </tr>\n",
       "    <tr>\n",
       "      <th>44</th>\n",
       "      <td>CITI BANK</td>\n",
       "      <td>1728.324436</td>\n",
       "      <td>34821.0</td>\n",
       "      <td>5300086.0</td>\n",
       "      <td>High</td>\n",
       "    </tr>\n",
       "    <tr>\n",
       "      <th>45</th>\n",
       "      <td>DBS BANK</td>\n",
       "      <td>701.950123</td>\n",
       "      <td>NaN</td>\n",
       "      <td>934272.0</td>\n",
       "      <td>Average</td>\n",
       "    </tr>\n",
       "    <tr>\n",
       "      <th>46</th>\n",
       "      <td>DEUTSCHE BANK LTD</td>\n",
       "      <td>1608.749351</td>\n",
       "      <td>NaN</td>\n",
       "      <td>212528.0</td>\n",
       "      <td>High</td>\n",
       "    </tr>\n",
       "    <tr>\n",
       "      <th>47</th>\n",
       "      <td>HONGKONG AND SHANGHAI BKG CORPN</td>\n",
       "      <td>1744.322817</td>\n",
       "      <td>NaN</td>\n",
       "      <td>600510.0</td>\n",
       "      <td>High</td>\n",
       "    </tr>\n",
       "    <tr>\n",
       "      <th>48</th>\n",
       "      <td>STANDARD CHARTERED BANK LTD</td>\n",
       "      <td>1112.793915</td>\n",
       "      <td>NaN</td>\n",
       "      <td>2812051.0</td>\n",
       "      <td>Above average</td>\n",
       "    </tr>\n",
       "    <tr>\n",
       "      <th>49</th>\n",
       "      <td>ADITYA BIRLA IDEA PAYMENTS BANK</td>\n",
       "      <td>147.378378</td>\n",
       "      <td>NaN</td>\n",
       "      <td>37.0</td>\n",
       "      <td>Low</td>\n",
       "    </tr>\n",
       "    <tr>\n",
       "      <th>50</th>\n",
       "      <td>AIRTEL PAYMENTS BANK</td>\n",
       "      <td>511.550690</td>\n",
       "      <td>NaN</td>\n",
       "      <td>375821.0</td>\n",
       "      <td>Average</td>\n",
       "    </tr>\n",
       "    <tr>\n",
       "      <th>51</th>\n",
       "      <td>FINO PAYMENTS BANK</td>\n",
       "      <td>866.937470</td>\n",
       "      <td>NaN</td>\n",
       "      <td>70043.0</td>\n",
       "      <td>Average</td>\n",
       "    </tr>\n",
       "    <tr>\n",
       "      <th>52</th>\n",
       "      <td>INDIA POST PAYMENTS BANK</td>\n",
       "      <td>569.200000</td>\n",
       "      <td>NaN</td>\n",
       "      <td>5.0</td>\n",
       "      <td>Average</td>\n",
       "    </tr>\n",
       "    <tr>\n",
       "      <th>55</th>\n",
       "      <td>PAYTM PAYMENTS BANK</td>\n",
       "      <td>465.552390</td>\n",
       "      <td>NaN</td>\n",
       "      <td>1199203.0</td>\n",
       "      <td>Low</td>\n",
       "    </tr>\n",
       "    <tr>\n",
       "      <th>56</th>\n",
       "      <td>AU SMALL FINANCE BANK LIMITED</td>\n",
       "      <td>1489.807553</td>\n",
       "      <td>NaN</td>\n",
       "      <td>152410.0</td>\n",
       "      <td>Above average</td>\n",
       "    </tr>\n",
       "    <tr>\n",
       "      <th>57</th>\n",
       "      <td>CAPITAL SMALL FINANCE BANK LIMITED</td>\n",
       "      <td>1878.626773</td>\n",
       "      <td>NaN</td>\n",
       "      <td>17202.0</td>\n",
       "      <td>High</td>\n",
       "    </tr>\n",
       "    <tr>\n",
       "      <th>58</th>\n",
       "      <td>FINCARE SMALL FINANCE BANK LIMITED</td>\n",
       "      <td>867.213115</td>\n",
       "      <td>NaN</td>\n",
       "      <td>6100.0</td>\n",
       "      <td>Average</td>\n",
       "    </tr>\n",
       "    <tr>\n",
       "      <th>60</th>\n",
       "      <td>ESAF SMALL FINANCE BANK LIMITED</td>\n",
       "      <td>1398.475134</td>\n",
       "      <td>NaN</td>\n",
       "      <td>17747.0</td>\n",
       "      <td>Above average</td>\n",
       "    </tr>\n",
       "    <tr>\n",
       "      <th>62</th>\n",
       "      <td>NORTH EAST SMALL FINANCE BANK LIMITED</td>\n",
       "      <td>308.485556</td>\n",
       "      <td>NaN</td>\n",
       "      <td>108.0</td>\n",
       "      <td>Low</td>\n",
       "    </tr>\n",
       "    <tr>\n",
       "      <th>63</th>\n",
       "      <td>SURYODAY SMALL FINANCE BANK LIMITED</td>\n",
       "      <td>1194.601343</td>\n",
       "      <td>NaN</td>\n",
       "      <td>4341.0</td>\n",
       "      <td>Above average</td>\n",
       "    </tr>\n",
       "    <tr>\n",
       "      <th>64</th>\n",
       "      <td>UJJIVAN SMALL FINANCE BANK LIMITED</td>\n",
       "      <td>79.933765</td>\n",
       "      <td>NaN</td>\n",
       "      <td>66430.0</td>\n",
       "      <td>Low</td>\n",
       "    </tr>\n",
       "    <tr>\n",
       "      <th>65</th>\n",
       "      <td>UTKARSH SMALL FINANCE BANK LIMITED</td>\n",
       "      <td>1201.355995</td>\n",
       "      <td>NaN</td>\n",
       "      <td>8574.0</td>\n",
       "      <td>Above average</td>\n",
       "    </tr>\n",
       "  </tbody>\n",
       "</table>\n",
       "</div>"
      ],
      "text/plain": [
       "                                Bank Name  DC_POS_PTransac2018  POS_Online  \\\n",
       "19                               IDBI LTD          1011.880551     30102.0   \n",
       "21                          AXIS BANK LTD          1464.204999    505792.0   \n",
       "22                       BANDHAN BANK LTD          1535.202965     22401.0   \n",
       "23               CATHOLIC SYRIAN BANK LTD          1848.985839         NaN   \n",
       "25                           DCB BANK LTD          1903.629616      1580.0   \n",
       "26                  DHANALAKSHMI BANK LTD          1583.415430      1114.0   \n",
       "27                       FEDERAL BANK LTD          1524.881522     11049.0   \n",
       "28                          HDFC BANK LTD          1418.144113    414056.0   \n",
       "29                         ICICI BANK LTD          1447.915133    333074.0   \n",
       "30                      IDFC Bank Limited           856.039833      1642.0   \n",
       "31                      INDUSIND BANK LTD          1553.425337     37269.0   \n",
       "34                   KARUR VYSYA BANK LTD          1351.603826     21877.0   \n",
       "35                KOTAK MAHINDRA BANK LTD          1145.260913      9784.0   \n",
       "36                  RATNAKAR BANK LIMITED          1267.182275    472430.0   \n",
       "37                      SOUTH INDIAN BANK          1515.966499     10166.0   \n",
       "38           TAMILNAD MERCANTILE BANK LTD          1746.710916      4957.0   \n",
       "39               THE LAXMI VILAS BANK LTD          1740.409011      5668.0   \n",
       "40                           YES BANK LTD          1435.571683     86681.0   \n",
       "43                      BARCLAYS BANK PLC          5725.961600         NaN   \n",
       "44                              CITI BANK          1728.324436     34821.0   \n",
       "45                               DBS BANK           701.950123         NaN   \n",
       "46                      DEUTSCHE BANK LTD          1608.749351         NaN   \n",
       "47        HONGKONG AND SHANGHAI BKG CORPN          1744.322817         NaN   \n",
       "48            STANDARD CHARTERED BANK LTD          1112.793915         NaN   \n",
       "49        ADITYA BIRLA IDEA PAYMENTS BANK           147.378378         NaN   \n",
       "50                   AIRTEL PAYMENTS BANK           511.550690         NaN   \n",
       "51                     FINO PAYMENTS BANK           866.937470         NaN   \n",
       "52               INDIA POST PAYMENTS BANK           569.200000         NaN   \n",
       "55                    PAYTM PAYMENTS BANK           465.552390         NaN   \n",
       "56          AU SMALL FINANCE BANK LIMITED          1489.807553         NaN   \n",
       "57     CAPITAL SMALL FINANCE BANK LIMITED          1878.626773         NaN   \n",
       "58     FINCARE SMALL FINANCE BANK LIMITED           867.213115         NaN   \n",
       "60        ESAF SMALL FINANCE BANK LIMITED          1398.475134         NaN   \n",
       "62  NORTH EAST SMALL FINANCE BANK LIMITED           308.485556         NaN   \n",
       "63    SURYODAY SMALL FINANCE BANK LIMITED          1194.601343         NaN   \n",
       "64     UJJIVAN SMALL FINANCE BANK LIMITED            79.933765         NaN   \n",
       "65     UTKARSH SMALL FINANCE BANK LIMITED          1201.355995         NaN   \n",
       "\n",
       "    DC_POS_Transaction Combined_category_DC  \n",
       "19           7331453.0        Above average  \n",
       "21          23046431.0        Above average  \n",
       "22            610698.0                 High  \n",
       "23            165740.0                 High  \n",
       "25            307424.0                 High  \n",
       "26            225660.0                 High  \n",
       "27           3155567.0                 High  \n",
       "28          41316850.0        Above average  \n",
       "29          37037674.0        Above average  \n",
       "30            835786.0              Average  \n",
       "31           2243294.0                 High  \n",
       "34           2275183.0        Above average  \n",
       "35           8217307.0        Above average  \n",
       "36            449334.0        Above average  \n",
       "37           1460603.0                 High  \n",
       "38            369346.0                 High  \n",
       "39            201804.0                 High  \n",
       "40           2535205.0        Above average  \n",
       "43               225.0                 High  \n",
       "44           5300086.0                 High  \n",
       "45            934272.0              Average  \n",
       "46            212528.0                 High  \n",
       "47            600510.0                 High  \n",
       "48           2812051.0        Above average  \n",
       "49                37.0                  Low  \n",
       "50            375821.0              Average  \n",
       "51             70043.0              Average  \n",
       "52                 5.0              Average  \n",
       "55           1199203.0                  Low  \n",
       "56            152410.0        Above average  \n",
       "57             17202.0                 High  \n",
       "58              6100.0              Average  \n",
       "60             17747.0        Above average  \n",
       "62               108.0                  Low  \n",
       "63              4341.0        Above average  \n",
       "64             66430.0                  Low  \n",
       "65              8574.0        Above average  "
      ]
     },
     "execution_count": 88,
     "metadata": {},
     "output_type": "execute_result"
    }
   ],
   "source": [
    "bin_pvt_DCPOS.drop(columns=['CC_POS_PTransac2018','CC_POS_Transaction'],axis=1)"
   ]
  },
  {
   "cell_type": "markdown",
   "metadata": {},
   "source": [
    "- Value counts function shows us the number of banks in each category based on their bin ranks. So we can see that most of the banks are lying between high and above average levels. "
   ]
  },
  {
   "cell_type": "code",
   "execution_count": 89,
   "metadata": {},
   "outputs": [
    {
     "data": {
      "text/plain": [
       "High             14\n",
       "Above average    13\n",
       "Average           6\n",
       "Low               4\n",
       "Name: Combined_category_DC, dtype: int64"
      ]
     },
     "execution_count": 89,
     "metadata": {},
     "output_type": "execute_result"
    }
   ],
   "source": [
    "bin_pvt_DCPOS['Combined_category_DC'].value_counts()"
   ]
  },
  {
   "cell_type": "markdown",
   "metadata": {},
   "source": [
    "### Data Visualisation of Binned Data\n",
    "\n",
    "- Since the number of banks are really high it will be difficult to plot them on a single graph. Hence, we have taken the top ten banks based on transaction levels on 2018. They will be ranked from highest to lowest"
   ]
  },
  {
   "cell_type": "code",
   "execution_count": 90,
   "metadata": {},
   "outputs": [],
   "source": [
    "top10_dc_pos2018=bin_pvt_DCPOS.sort_values(by='DC_POS_Transaction',ascending=False).head(10)"
   ]
  },
  {
   "cell_type": "code",
   "execution_count": 91,
   "metadata": {},
   "outputs": [],
   "source": [
    "top10_dc_pos2018['POS_Online']=top10_dc_pos2018['POS_Online'].fillna(0)"
   ]
  },
  {
   "cell_type": "code",
   "execution_count": 92,
   "metadata": {},
   "outputs": [
    {
     "data": {
      "text/plain": [
       "1426.8578978439623"
      ]
     },
     "execution_count": 92,
     "metadata": {},
     "output_type": "execute_result"
    }
   ],
   "source": [
    "median2=top10_dc_pos2018.DC_POS_PTransac2018.median()\n",
    "median2"
   ]
  },
  {
   "cell_type": "markdown",
   "metadata": {},
   "source": [
    "### Data Visualisation of binned data using seaborn\n",
    "\n",
    "- Here we have used a particular feature of seaborn known as 'Hue', these can plot the bars based on their categorical features. \n",
    "- Since a category is already applied one can visualise how the banks stack up against each other\n",
    "> Points to Note: Thedataset is already arranged based on number of transactions. So in top 10, **HDFC** has the highest for the month of May,2018\n",
    "- I have decided to two axis labels because I wanted to show if number of **P-O-S** machines online from the bank do have any effect on transaction levels\n",
    "1. Left Y-Axis: Average Transaction values for DC P-O-S Machines\n",
    "2. Right Y-Axis: Number of P-O-S machines online from bank\n",
    "3. X-Axis: Bank Name"
   ]
  },
  {
   "cell_type": "code",
   "execution_count": 93,
   "metadata": {},
   "outputs": [
    {
     "data": {
      "image/png": "[encoded data removed]",
      "text/plain": [
       "<Figure size 864x432 with 2 Axes>"
      ]
     },
     "metadata": {},
     "output_type": "display_data"
    }
   ],
   "source": [
    "plt.figure(figsize=(12,6))\n",
    "sns.barplot(data=top10_dc_pos2018,x='Bank Name',y='DC_POS_PTransac2018',hue='Combined_category_DC',dodge=False)\n",
    "plt.title('Private Banks average value per DC transaction, ranked based on binning: 2018 dataset')\n",
    "plt.axhline(median2,color='k',linestyle=\"-\",label='Median:1426.85')\n",
    "plt.ylabel('Average Transaction Value Debit Cards P-O-S')\n",
    "plt.legend(bbox_to_anchor=(1.15,1),loc='upper left')\n",
    "plt.grid(False)\n",
    "plt.xticks(rotation=90)\n",
    "\n",
    "x = top10_dc_pos2018[\"Bank Name\"]\n",
    "y = top10_dc_pos2018[\"POS_Online\"]\n",
    "axes2 = plt.twinx()\n",
    "axes2.plot(x, y, color='b',label='Debit Card POS',marker='o', markerfacecolor='red',markersize=12,linestyle='dashed', linewidth = 2)\n",
    "plt.legend(loc='upper left')\n",
    "axes2.set_ylabel('POS Online',color='blue')\n",
    "plt.grid(False)\n"
   ]
  },
  {
   "cell_type": "markdown",
   "metadata": {},
   "source": [
    "### Inference: \n",
    "\n",
    "The number of POS online doesnt play a major hand in the average value per transaction because in the above chart, around 60% of the banks have 0-50,000 machines online(which is really insignificant)\n",
    "\n",
    ">  We can also see that 80% of the banks are categorised in binning as **above average** whereas only 20% are **high**\n",
    "- So, on analysis it can be seen that banks eventhough they have high transaction levels have maintained the average amount to be at par with the banks with lower transaction levels.\n",
    "- Banks such as HDFC and ICICI have deployed a lot of their P-O-S machines which have increased their number of transactions significantly but their turnover per customer is not as high as banks like CITI who have no P-O-S machines in the Indian market ar all.\n",
    "- This also gives a grim picture of the purchasing power of Indian customers based on their purchasing value. INR 1800 is around 25 USD in 2018, which is very less. Banks should be wary of that deploying more POS machines because the cost cannot of maintenace will be higher than average transaction value."
   ]
  },
  {
   "cell_type": "markdown",
   "metadata": {},
   "source": [
    "## Conclusion:\n",
    "\n",
    "This brings us to the end of the first part of the 2018 and 2019 bank transactions analysis. The main motive of this part was to show the thinking process behind how I am able to show the analysis. \n",
    "- Since my project revolved around around Point of Sales machines this project is focused on that. \n",
    "- Part I was just the basics of how I wrought the dataset to my requirements\n",
    "> Further in depth analysis of different components are done in the second part along with data Visualisation as well. Please do give it a read also to see how the banks are stacked up against each other based on various properties and requirements. "
   ]
  },
  {
   "cell_type": "markdown",
   "metadata": {},
   "source": [
    "In conclusion, one would see that the Indian economy has been embracing the digitisation well. From 2018-2019, the number of transactions have mostly increased for all banks in both CC and DC, which shows transactions in this field will increase more over time and the dependency on cash will reduce.\n",
    "\n",
    "> The banks should also try to deploy more of their P-O-S machines and sell them to merchants, this would see more incomes coming in for the banks and more average per revenue in terms of transactions. "
   ]
  },
  {
   "cell_type": "code",
   "execution_count": null,
   "metadata": {},
   "outputs": [],
   "source": []
  },
  {
   "cell_type": "code",
   "execution_count": null,
   "metadata": {},
   "outputs": [],
   "source": []
  }
 ],
 "metadata": {
  "kernelspec": {
   "display_name": "Python 3",
   "language": "python",
   "name": "python3"
  },
  "language_info": {
   "codemirror_mode": {
    "name": "ipython",
    "version": 3
   },
   "file_extension": ".py",
   "mimetype": "text/x-python",
   "name": "python",
   "nbconvert_exporter": "python",
   "pygments_lexer": "ipython3",
   "version": "3.8.5"
  }
 },
 "nbformat": 4,
 "nbformat_minor": 4
}
