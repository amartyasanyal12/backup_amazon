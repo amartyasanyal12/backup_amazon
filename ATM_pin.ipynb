{
 "cells": [
  {
   "cell_type": "code",
   "execution_count": 22,
   "metadata": {},
   "outputs": [
    {
     "name": "stdout",
     "output_type": "stream",
     "text": [
      "Enter the ATM \n",
      "\n"
     ]
    },
    {
     "ename": "KeyboardInterrupt",
     "evalue": "Interrupted by user",
     "output_type": "error",
     "traceback": [
      "\u001b[1;31m---------------------------------------------------------------------------\u001b[0m",
      "\u001b[1;31mKeyboardInterrupt\u001b[0m                         Traceback (most recent call last)",
      "\u001b[1;32m<ipython-input-22-da6e247fc69e>\u001b[0m in \u001b[0;36m<module>\u001b[1;34m\u001b[0m\n\u001b[0;32m      4\u001b[0m \u001b[0mbalance\u001b[0m\u001b[1;33m=\u001b[0m\u001b[1;36m100\u001b[0m\u001b[1;33m\u001b[0m\u001b[1;33m\u001b[0m\u001b[0m\n\u001b[0;32m      5\u001b[0m \u001b[1;32mwhile\u001b[0m \u001b[0mguesses\u001b[0m\u001b[1;33m>=\u001b[0m \u001b[1;36m0\u001b[0m\u001b[1;33m:\u001b[0m\u001b[1;33m\u001b[0m\u001b[1;33m\u001b[0m\u001b[0m\n\u001b[1;32m----> 6\u001b[1;33m     \u001b[0mpin\u001b[0m\u001b[1;33m=\u001b[0m\u001b[0mint\u001b[0m\u001b[1;33m(\u001b[0m\u001b[0minput\u001b[0m\u001b[1;33m(\u001b[0m\u001b[1;34m\"Enter your pin number \\n\"\u001b[0m\u001b[1;33m)\u001b[0m\u001b[1;33m)\u001b[0m\u001b[1;33m\u001b[0m\u001b[1;33m\u001b[0m\u001b[0m\n\u001b[0m\u001b[0;32m      7\u001b[0m     \u001b[1;32mif\u001b[0m \u001b[0mpin\u001b[0m\u001b[1;33m==\u001b[0m\u001b[1;33m(\u001b[0m\u001b[1;36m3241\u001b[0m\u001b[1;33m)\u001b[0m\u001b[1;33m:\u001b[0m\u001b[1;33m\u001b[0m\u001b[1;33m\u001b[0m\u001b[0m\n\u001b[0;32m      8\u001b[0m         \u001b[0mprint\u001b[0m\u001b[1;33m(\u001b[0m\u001b[1;34m\"the pin is entered correctly\"\u001b[0m\u001b[1;33m)\u001b[0m\u001b[1;33m\u001b[0m\u001b[1;33m\u001b[0m\u001b[0m\n",
      "\u001b[1;32m~\\Anaconda3\\lib\\site-packages\\ipykernel\\kernelbase.py\u001b[0m in \u001b[0;36mraw_input\u001b[1;34m(self, prompt)\u001b[0m\n\u001b[0;32m    858\u001b[0m                 \u001b[1;34m\"raw_input was called, but this frontend does not support input requests.\"\u001b[0m\u001b[1;33m\u001b[0m\u001b[1;33m\u001b[0m\u001b[0m\n\u001b[0;32m    859\u001b[0m             )\n\u001b[1;32m--> 860\u001b[1;33m         return self._input_request(str(prompt),\n\u001b[0m\u001b[0;32m    861\u001b[0m             \u001b[0mself\u001b[0m\u001b[1;33m.\u001b[0m\u001b[0m_parent_ident\u001b[0m\u001b[1;33m,\u001b[0m\u001b[1;33m\u001b[0m\u001b[1;33m\u001b[0m\u001b[0m\n\u001b[0;32m    862\u001b[0m             \u001b[0mself\u001b[0m\u001b[1;33m.\u001b[0m\u001b[0m_parent_header\u001b[0m\u001b[1;33m,\u001b[0m\u001b[1;33m\u001b[0m\u001b[1;33m\u001b[0m\u001b[0m\n",
      "\u001b[1;32m~\\Anaconda3\\lib\\site-packages\\ipykernel\\kernelbase.py\u001b[0m in \u001b[0;36m_input_request\u001b[1;34m(self, prompt, ident, parent, password)\u001b[0m\n\u001b[0;32m    902\u001b[0m             \u001b[1;32mexcept\u001b[0m \u001b[0mKeyboardInterrupt\u001b[0m\u001b[1;33m:\u001b[0m\u001b[1;33m\u001b[0m\u001b[1;33m\u001b[0m\u001b[0m\n\u001b[0;32m    903\u001b[0m                 \u001b[1;31m# re-raise KeyboardInterrupt, to truncate traceback\u001b[0m\u001b[1;33m\u001b[0m\u001b[1;33m\u001b[0m\u001b[1;33m\u001b[0m\u001b[0m\n\u001b[1;32m--> 904\u001b[1;33m                 \u001b[1;32mraise\u001b[0m \u001b[0mKeyboardInterrupt\u001b[0m\u001b[1;33m(\u001b[0m\u001b[1;34m\"Interrupted by user\"\u001b[0m\u001b[1;33m)\u001b[0m \u001b[1;32mfrom\u001b[0m \u001b[1;32mNone\u001b[0m\u001b[1;33m\u001b[0m\u001b[1;33m\u001b[0m\u001b[0m\n\u001b[0m\u001b[0;32m    905\u001b[0m             \u001b[1;32mexcept\u001b[0m \u001b[0mException\u001b[0m \u001b[1;32mas\u001b[0m \u001b[0me\u001b[0m\u001b[1;33m:\u001b[0m\u001b[1;33m\u001b[0m\u001b[1;33m\u001b[0m\u001b[0m\n\u001b[0;32m    906\u001b[0m                 \u001b[0mself\u001b[0m\u001b[1;33m.\u001b[0m\u001b[0mlog\u001b[0m\u001b[1;33m.\u001b[0m\u001b[0mwarning\u001b[0m\u001b[1;33m(\u001b[0m\u001b[1;34m\"Invalid Message:\"\u001b[0m\u001b[1;33m,\u001b[0m \u001b[0mexc_info\u001b[0m\u001b[1;33m=\u001b[0m\u001b[1;32mTrue\u001b[0m\u001b[1;33m)\u001b[0m\u001b[1;33m\u001b[0m\u001b[1;33m\u001b[0m\u001b[0m\n",
      "\u001b[1;31mKeyboardInterrupt\u001b[0m: Interrupted by user"
     ]
    }
   ],
   "source": [
    "print(\"Enter the ATM \\n\")\n",
    "restart=(\"Y\")\n",
    "guesses=3\n",
    "balance=100\n",
    "while guesses>= 0:\n",
    "    pin=int(input(\"Enter your pin number \\n\"))\n",
    "    if pin==(3241):\n",
    "        print(\"the pin is entered correctly\")\n",
    "        while restart not in (\"n\",\"No\",\"NO\",\"N\"):\n",
    "            print(\"The actions that can be undertaken are: \\n\")\n",
    "            print(\"Press 1 for Checking account balance \\n\")\n",
    "            print(\"Press 2 for withdrawal of amount \\n\")\n",
    "            print(\"Press 3 for paying in amount \\n\")\n",
    "            print(\"Press 4 to return card \\n\")\n",
    "            option=int(input(\"Enter which option you want to choose \\n\"))\n",
    "            if option==1:\n",
    "                print(\"Your account balance is, \", balance,\"$\")\n",
    "                restart=input(\"Would you go back?\")\n",
    "                if restart in (\"n\",\"No\",\"NO\",\"N\"):\n",
    "                    print(\"Thank you, come back again\")\n",
    "                    break\n",
    "            elif option==2:\n",
    "                option2= (\"Y\")\n",
    "                print(\"The amount you can withdraw are: $10,$20,$30,$40,$50,$60,$70,$80,$90 \\n\")\n",
    "                withdrawal=float(input())\n",
    "                if withdrawal in [10,20,30,40,50,60,70,80,90]:\n",
    "                    balance=balance-withdrawal\n",
    "                    print(\"Your account balance is,\", balance ,\"$\")\n",
    "                    restart=input(\"Do you want to go back? \\n\")\n",
    "                    if restart in (\"n\",\"No\",\"NO\",\"N\"):\n",
    "                        print (\"Thank you come back again\")\n",
    "                        break\n",
    "                elif withdrawal != [10,20,30,40,50,60,70,80,90]:\n",
    "                        print(\"You entered invalid amount\")\n",
    "                        restart =\"Y\"\n",
    "                elif withdrawal == 1:\n",
    "                    withdrawal=float(input(\"Enter the desired amount\"))\n",
    "\n",
    "            elif option == 3:\n",
    "                pay_in=float(input(\"Enter the amount you want to add to your account \\n\"))\n",
    "                balance=balance+pay_in\n",
    "                print(\"The new balance is,\", balance ,\"$\")\n",
    "                restart=input(\"Do you want to go back?\")\n",
    "                if restart in (\"n\",\"No\",\"NO\",\"N\"):\n",
    "                    print(\"Thank you come back again!\")\n",
    "                    break\n",
    "            elif option==4:\n",
    "                print(\"Please wait for your card to eject \\n\")\n",
    "                break\n",
    "            else:\n",
    "                print(\"Please enter a correct pin number\")\n",
    "                restart=(\"Y\")\n",
    "\n",
    "    elif pin != (3241):\n",
    "        print(\"Incorrect password\")\n",
    "        guesses=guesses-1\n",
    "        print(\"no of guesses left\",guesses)\n",
    "        if guesses==0:\n",
    "            print(\"No more tries left \\n\")\n",
    "            break"
   ]
  },
  {
   "cell_type": "code",
   "execution_count": 1,
   "metadata": {},
   "outputs": [
    {
     "name": "stdout",
     "output_type": "stream",
     "text": [
      "olleH\n"
     ]
    }
   ],
   "source": [
    "inputStr='Hello'\n",
    "print(inputStr[-1::-1])"
   ]
  },
  {
   "cell_type": "code",
   "execution_count": 3,
   "metadata": {},
   "outputs": [
    {
     "name": "stdout",
     "output_type": "stream",
     "text": [
      "aytramA ma I\n"
     ]
    }
   ],
   "source": [
    "inputStr='I am Amartya'\n",
    "reverse=''\n",
    "for i in range(len(inputStr)-1,-1,-1):\n",
    "    reverse=reverse+inputStr[i]\n",
    "print(reverse)"
   ]
  },
  {
   "cell_type": "code",
   "execution_count": 5,
   "metadata": {},
   "outputs": [
    {
     "name": "stdout",
     "output_type": "stream",
     "text": [
      "1\n",
      "12\n",
      "123\n",
      "1234\n",
      "12345\n"
     ]
    }
   ],
   "source": [
    "for i in range(5):\n",
    "    for j in range(i+1):\n",
    "        print(j+1,end=\"\")\n",
    "    print()"
   ]
  },
  {
   "cell_type": "code",
   "execution_count": null,
   "metadata": {},
   "outputs": [],
   "source": []
  }
 ],
 "metadata": {
  "kernelspec": {
   "display_name": "Python 3",
   "language": "python",
   "name": "python3"
  },
  "language_info": {
   "codemirror_mode": {
    "name": "ipython",
    "version": 3
   },
   "file_extension": ".py",
   "mimetype": "text/x-python",
   "name": "python",
   "nbconvert_exporter": "python",
   "pygments_lexer": "ipython3",
   "version": "3.8.5"
  }
 },
 "nbformat": 4,
 "nbformat_minor": 4
}
